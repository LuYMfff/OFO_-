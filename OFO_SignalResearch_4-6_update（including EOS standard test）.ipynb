{
 "cells": [
  {
   "cell_type": "markdown",
   "metadata": {},
   "source": [
    "# 4、调用alpha101、alpha191、技术因子、candleresearch或者自己创造衍生因子，要求：任意两个因子，进行画图观察，主要例子看alpha101research和candleresearch，写研究报告（画了什么因子，思考了什么现象，对现象进行描述）\n",
    "\n",
    "\n",
    "https://github.com/ChannelCMT/formula/wiki\n",
    "\n",
    "数据类型和周期自定"
   ]
  },
  {
   "cell_type": "markdown",
   "metadata": {},
   "source": [
    "## （1）因子1：ROC20，20日变动速率(20-day Price Rate of Change). 是一个动能指标，其以当日的收盘价和N天前的收盘价比较，通过计算股价某一段时间内收盘价变动的比例，应用价格的移动比较来测量价位动量"
   ]
  },
  {
   "cell_type": "code",
   "execution_count": 240,
   "metadata": {},
   "outputs": [],
   "source": [
    "import warnings\n",
    "warnings.filterwarnings('ignore')\n",
    "\n",
    "from time import time\n",
    "\n",
    "from jaqs_fxdayu.data.dataservice import LocalDataService\n",
    "ds = LocalDataService()\n",
    "\n",
    "## 加freq参数\n",
    "\n",
    "start = time()\n",
    "path = r'./min_data/VnTrader_1Min_Db'\n",
    "props = {'fields': 'open,high,low,close,volume','symbol': 'BTCUSDT:binance',\n",
    "         'freq':'1H',\n",
    "         'start_date':20180601000000}\n",
    "\n",
    "Time_dict = ds.bar_reader(path,props) #读取数据"
   ]
  },
  {
   "cell_type": "code",
   "execution_count": 241,
   "metadata": {},
   "outputs": [
    {
     "name": "stdout",
     "output_type": "stream",
     "text": [
      "Initialize dataview success.\n"
     ]
    }
   ],
   "source": [
    "from jaqs_fxdayu.data.hf_dataview import HFDataView\n",
    "dv1H = HFDataView()\n",
    "dv1H.create_init_dv(Time_dict.dropna().set_index([\"trade_date\",\"symbol\"]))"
   ]
  },
  {
   "cell_type": "code",
   "execution_count": 335,
   "metadata": {},
   "outputs": [],
   "source": [
    "import matplotlib.pyplot as plt\n",
    "import pandas as pd\n",
    "\n",
    "def Plot_Mean(dv, ROC, ROC_MA1, ROC_MA2, chart_name='dv_alpha', n=0):\n",
    "    fig,(ax,ax1,ax2) = plt.subplots(3,1,sharex=True, figsize=(15,15))\n",
    "    ax.plot(dv.get_ts('close', date_type='datetime').iloc[:,0].iloc[n:])\n",
    "    ax.set_title(chart_name,fontsize=24,color='b')\n",
    "    ax1.plot(ROC.iloc[n:], alpha=1)\n",
    "    ax2.plot(ROC_MA1.iloc[n:], alpha=1)\n",
    "    ax2.plot(ROC_MA2.iloc[n:], alpha=3)\n",
    "    plt.show()"
   ]
  },
  {
   "cell_type": "code",
   "execution_count": 243,
   "metadata": {
    "scrolled": true
   },
   "outputs": [
    {
     "data": {
      "text/html": [
       "<div>\n",
       "<style>\n",
       "    .dataframe thead tr:only-child th {\n",
       "        text-align: right;\n",
       "    }\n",
       "\n",
       "    .dataframe thead th {\n",
       "        text-align: left;\n",
       "    }\n",
       "\n",
       "    .dataframe tbody tr th {\n",
       "        vertical-align: top;\n",
       "    }\n",
       "</style>\n",
       "<table border=\"1\" class=\"dataframe\">\n",
       "  <thead>\n",
       "    <tr style=\"text-align: right;\">\n",
       "      <th>symbol</th>\n",
       "      <th>BTCUSDT:binance</th>\n",
       "    </tr>\n",
       "    <tr>\n",
       "      <th>trade_date</th>\n",
       "      <th></th>\n",
       "    </tr>\n",
       "  </thead>\n",
       "  <tbody>\n",
       "    <tr>\n",
       "      <th>20180601000000</th>\n",
       "      <td>NaN</td>\n",
       "    </tr>\n",
       "    <tr>\n",
       "      <th>20180601010000</th>\n",
       "      <td>NaN</td>\n",
       "    </tr>\n",
       "    <tr>\n",
       "      <th>20180601020000</th>\n",
       "      <td>NaN</td>\n",
       "    </tr>\n",
       "    <tr>\n",
       "      <th>20180601030000</th>\n",
       "      <td>NaN</td>\n",
       "    </tr>\n",
       "    <tr>\n",
       "      <th>20180601040000</th>\n",
       "      <td>NaN</td>\n",
       "    </tr>\n",
       "    <tr>\n",
       "      <th>20180601050000</th>\n",
       "      <td>NaN</td>\n",
       "    </tr>\n",
       "    <tr>\n",
       "      <th>20180601060000</th>\n",
       "      <td>NaN</td>\n",
       "    </tr>\n",
       "    <tr>\n",
       "      <th>20180601070000</th>\n",
       "      <td>NaN</td>\n",
       "    </tr>\n",
       "    <tr>\n",
       "      <th>20180601080000</th>\n",
       "      <td>NaN</td>\n",
       "    </tr>\n",
       "    <tr>\n",
       "      <th>20180601090000</th>\n",
       "      <td>NaN</td>\n",
       "    </tr>\n",
       "    <tr>\n",
       "      <th>20180601100000</th>\n",
       "      <td>NaN</td>\n",
       "    </tr>\n",
       "    <tr>\n",
       "      <th>20180601110000</th>\n",
       "      <td>NaN</td>\n",
       "    </tr>\n",
       "    <tr>\n",
       "      <th>20180601120000</th>\n",
       "      <td>NaN</td>\n",
       "    </tr>\n",
       "    <tr>\n",
       "      <th>20180601130000</th>\n",
       "      <td>NaN</td>\n",
       "    </tr>\n",
       "    <tr>\n",
       "      <th>20180601140000</th>\n",
       "      <td>NaN</td>\n",
       "    </tr>\n",
       "    <tr>\n",
       "      <th>20180601150000</th>\n",
       "      <td>NaN</td>\n",
       "    </tr>\n",
       "    <tr>\n",
       "      <th>20180601160000</th>\n",
       "      <td>NaN</td>\n",
       "    </tr>\n",
       "    <tr>\n",
       "      <th>20180601170000</th>\n",
       "      <td>NaN</td>\n",
       "    </tr>\n",
       "    <tr>\n",
       "      <th>20180601180000</th>\n",
       "      <td>NaN</td>\n",
       "    </tr>\n",
       "    <tr>\n",
       "      <th>20180601190000</th>\n",
       "      <td>NaN</td>\n",
       "    </tr>\n",
       "    <tr>\n",
       "      <th>20180601200000</th>\n",
       "      <td>-1.774234</td>\n",
       "    </tr>\n",
       "    <tr>\n",
       "      <th>20180601210000</th>\n",
       "      <td>-2.114361</td>\n",
       "    </tr>\n",
       "    <tr>\n",
       "      <th>20180601220000</th>\n",
       "      <td>-1.695626</td>\n",
       "    </tr>\n",
       "    <tr>\n",
       "      <th>20180601230000</th>\n",
       "      <td>-1.293589</td>\n",
       "    </tr>\n",
       "    <tr>\n",
       "      <th>20180602000000</th>\n",
       "      <td>-1.220816</td>\n",
       "    </tr>\n",
       "    <tr>\n",
       "      <th>20180602010000</th>\n",
       "      <td>-1.614176</td>\n",
       "    </tr>\n",
       "    <tr>\n",
       "      <th>20180602020000</th>\n",
       "      <td>-0.594421</td>\n",
       "    </tr>\n",
       "    <tr>\n",
       "      <th>20180602030000</th>\n",
       "      <td>-0.599465</td>\n",
       "    </tr>\n",
       "    <tr>\n",
       "      <th>20180602040000</th>\n",
       "      <td>-0.970092</td>\n",
       "    </tr>\n",
       "    <tr>\n",
       "      <th>20180602050000</th>\n",
       "      <td>-0.561064</td>\n",
       "    </tr>\n",
       "    <tr>\n",
       "      <th>...</th>\n",
       "      <td>...</td>\n",
       "    </tr>\n",
       "    <tr>\n",
       "      <th>20180920180000</th>\n",
       "      <td>1.366993</td>\n",
       "    </tr>\n",
       "    <tr>\n",
       "      <th>20180920190000</th>\n",
       "      <td>1.579184</td>\n",
       "    </tr>\n",
       "    <tr>\n",
       "      <th>20180920200000</th>\n",
       "      <td>1.554375</td>\n",
       "    </tr>\n",
       "    <tr>\n",
       "      <th>20180920210000</th>\n",
       "      <td>1.524608</td>\n",
       "    </tr>\n",
       "    <tr>\n",
       "      <th>20180920220000</th>\n",
       "      <td>4.014820</td>\n",
       "    </tr>\n",
       "    <tr>\n",
       "      <th>20180920230000</th>\n",
       "      <td>0.120433</td>\n",
       "    </tr>\n",
       "    <tr>\n",
       "      <th>20180921000000</th>\n",
       "      <td>-0.030355</td>\n",
       "    </tr>\n",
       "    <tr>\n",
       "      <th>20180921010000</th>\n",
       "      <td>0.086161</td>\n",
       "    </tr>\n",
       "    <tr>\n",
       "      <th>20180921020000</th>\n",
       "      <td>0.317063</td>\n",
       "    </tr>\n",
       "    <tr>\n",
       "      <th>20180921030000</th>\n",
       "      <td>0.439932</td>\n",
       "    </tr>\n",
       "    <tr>\n",
       "      <th>20180921040000</th>\n",
       "      <td>-0.647968</td>\n",
       "    </tr>\n",
       "    <tr>\n",
       "      <th>20180921050000</th>\n",
       "      <td>1.294497</td>\n",
       "    </tr>\n",
       "    <tr>\n",
       "      <th>20180921060000</th>\n",
       "      <td>2.274332</td>\n",
       "    </tr>\n",
       "    <tr>\n",
       "      <th>20180921070000</th>\n",
       "      <td>1.480471</td>\n",
       "    </tr>\n",
       "    <tr>\n",
       "      <th>20180921080000</th>\n",
       "      <td>1.957643</td>\n",
       "    </tr>\n",
       "    <tr>\n",
       "      <th>20180921090000</th>\n",
       "      <td>1.768025</td>\n",
       "    </tr>\n",
       "    <tr>\n",
       "      <th>20180921100000</th>\n",
       "      <td>2.433784</td>\n",
       "    </tr>\n",
       "    <tr>\n",
       "      <th>20180921110000</th>\n",
       "      <td>2.241460</td>\n",
       "    </tr>\n",
       "    <tr>\n",
       "      <th>20180921120000</th>\n",
       "      <td>2.505956</td>\n",
       "    </tr>\n",
       "    <tr>\n",
       "      <th>20180921130000</th>\n",
       "      <td>2.330515</td>\n",
       "    </tr>\n",
       "    <tr>\n",
       "      <th>20180921140000</th>\n",
       "      <td>2.105534</td>\n",
       "    </tr>\n",
       "    <tr>\n",
       "      <th>20180921150000</th>\n",
       "      <td>3.423057</td>\n",
       "    </tr>\n",
       "    <tr>\n",
       "      <th>20180921160000</th>\n",
       "      <td>4.300856</td>\n",
       "    </tr>\n",
       "    <tr>\n",
       "      <th>20180921170000</th>\n",
       "      <td>4.422454</td>\n",
       "    </tr>\n",
       "    <tr>\n",
       "      <th>20180921180000</th>\n",
       "      <td>4.362893</td>\n",
       "    </tr>\n",
       "    <tr>\n",
       "      <th>20180921190000</th>\n",
       "      <td>5.053195</td>\n",
       "    </tr>\n",
       "    <tr>\n",
       "      <th>20180921200000</th>\n",
       "      <td>4.827631</td>\n",
       "    </tr>\n",
       "    <tr>\n",
       "      <th>20180921210000</th>\n",
       "      <td>5.113967</td>\n",
       "    </tr>\n",
       "    <tr>\n",
       "      <th>20180921220000</th>\n",
       "      <td>4.910098</td>\n",
       "    </tr>\n",
       "    <tr>\n",
       "      <th>20180921230000</th>\n",
       "      <td>4.095944</td>\n",
       "    </tr>\n",
       "  </tbody>\n",
       "</table>\n",
       "<p>2694 rows × 1 columns</p>\n",
       "</div>"
      ],
      "text/plain": [
       "symbol          BTCUSDT:binance\n",
       "trade_date                     \n",
       "20180601000000              NaN\n",
       "20180601010000              NaN\n",
       "20180601020000              NaN\n",
       "20180601030000              NaN\n",
       "20180601040000              NaN\n",
       "20180601050000              NaN\n",
       "20180601060000              NaN\n",
       "20180601070000              NaN\n",
       "20180601080000              NaN\n",
       "20180601090000              NaN\n",
       "20180601100000              NaN\n",
       "20180601110000              NaN\n",
       "20180601120000              NaN\n",
       "20180601130000              NaN\n",
       "20180601140000              NaN\n",
       "20180601150000              NaN\n",
       "20180601160000              NaN\n",
       "20180601170000              NaN\n",
       "20180601180000              NaN\n",
       "20180601190000              NaN\n",
       "20180601200000        -1.774234\n",
       "20180601210000        -2.114361\n",
       "20180601220000        -1.695626\n",
       "20180601230000        -1.293589\n",
       "20180602000000        -1.220816\n",
       "20180602010000        -1.614176\n",
       "20180602020000        -0.594421\n",
       "20180602030000        -0.599465\n",
       "20180602040000        -0.970092\n",
       "20180602050000        -0.561064\n",
       "...                         ...\n",
       "20180920180000         1.366993\n",
       "20180920190000         1.579184\n",
       "20180920200000         1.554375\n",
       "20180920210000         1.524608\n",
       "20180920220000         4.014820\n",
       "20180920230000         0.120433\n",
       "20180921000000        -0.030355\n",
       "20180921010000         0.086161\n",
       "20180921020000         0.317063\n",
       "20180921030000         0.439932\n",
       "20180921040000        -0.647968\n",
       "20180921050000         1.294497\n",
       "20180921060000         2.274332\n",
       "20180921070000         1.480471\n",
       "20180921080000         1.957643\n",
       "20180921090000         1.768025\n",
       "20180921100000         2.433784\n",
       "20180921110000         2.241460\n",
       "20180921120000         2.505956\n",
       "20180921130000         2.330515\n",
       "20180921140000         2.105534\n",
       "20180921150000         3.423057\n",
       "20180921160000         4.300856\n",
       "20180921170000         4.422454\n",
       "20180921180000         4.362893\n",
       "20180921190000         5.053195\n",
       "20180921200000         4.827631\n",
       "20180921210000         5.113967\n",
       "20180921220000         4.910098\n",
       "20180921230000         4.095944\n",
       "\n",
       "[2694 rows x 1 columns]"
      ]
     },
     "execution_count": 243,
     "metadata": {},
     "output_type": "execute_result"
    }
   ],
   "source": [
    "dv1H.add_formula('ROC20', '((close/Delay(close, 20))-1)*100' , add_data=True)"
   ]
  },
  {
   "cell_type": "code",
   "execution_count": 376,
   "metadata": {},
   "outputs": [
    {
     "name": "stdout",
     "output_type": "stream",
     "text": [
      "Field [roc20_ma1] is overwritten.\n",
      "Field [roc20_ma2] is overwritten.\n"
     ]
    }
   ],
   "source": [
    "roc20_ma1 = dv1H.add_formula('roc20_ma1', 'Ts_Mean(ROC20,10)',add_data=True)\n",
    "roc20_ma2 = dv1H.add_formula('roc20_ma2', 'Ts_Mean(ROC20,35)', add_data=True)"
   ]
  },
  {
   "cell_type": "code",
   "execution_count": 377,
   "metadata": {},
   "outputs": [
    {
     "data": {
      "image/png": "[encoded data removed]",
      "text/plain": [
       "<Figure size 1080x1080 with 3 Axes>"
      ]
     },
     "metadata": {},
     "output_type": "display_data"
    }
   ],
   "source": [
    "roc = dv1H.get_ts('ROC20', date_type='datetime')\n",
    "roc20_ma1 = dv1H.get_ts('roc20_ma1', date_type='datetime')\n",
    "roc20_ma2 = dv1H.get_ts('roc20_ma2', date_type='datetime')\n",
    "\n",
    "Plot_Mean(dv1H, roc.iloc[:,0], roc20_ma1.iloc[:,0], roc20_ma2.iloc[:,0], n=-300)"
   ]
  },
  {
   "cell_type": "markdown",
   "metadata": {},
   "source": [
    "### 对比BTCUSDT收盘价与其ROC20指标的图表，发现ROC20与标的物价格图在趋势上能够部分吻合，主要表现为ROC20几乎领先或与标的物价格变动趋势一致；对ROC20进行短期和长期MA处理，通过ROC20指标的短期和长期MA的组合来确定进出场时机。当短期MA上穿长期时，作为多单信号；短期MA下穿长期时，为空单信号。"
   ]
  },
  {
   "cell_type": "markdown",
   "metadata": {},
   "source": [
    "## （2）因子2：alpha191 - alpha27，wma"
   ]
  },
  {
   "cell_type": "code",
   "execution_count": 330,
   "metadata": {},
   "outputs": [
    {
     "data": {
      "text/html": [
       "<div>\n",
       "<style>\n",
       "    .dataframe thead tr:only-child th {\n",
       "        text-align: right;\n",
       "    }\n",
       "\n",
       "    .dataframe thead th {\n",
       "        text-align: left;\n",
       "    }\n",
       "\n",
       "    .dataframe tbody tr th {\n",
       "        vertical-align: top;\n",
       "    }\n",
       "</style>\n",
       "<table border=\"1\" class=\"dataframe\">\n",
       "  <thead>\n",
       "    <tr style=\"text-align: right;\">\n",
       "      <th>symbol</th>\n",
       "      <th>BTCUSDT:binance</th>\n",
       "    </tr>\n",
       "    <tr>\n",
       "      <th>trade_date</th>\n",
       "      <th></th>\n",
       "    </tr>\n",
       "  </thead>\n",
       "  <tbody>\n",
       "    <tr>\n",
       "      <th>20180601000000</th>\n",
       "      <td>NaN</td>\n",
       "    </tr>\n",
       "    <tr>\n",
       "      <th>20180601010000</th>\n",
       "      <td>NaN</td>\n",
       "    </tr>\n",
       "    <tr>\n",
       "      <th>20180601020000</th>\n",
       "      <td>NaN</td>\n",
       "    </tr>\n",
       "    <tr>\n",
       "      <th>20180601030000</th>\n",
       "      <td>NaN</td>\n",
       "    </tr>\n",
       "    <tr>\n",
       "      <th>20180601040000</th>\n",
       "      <td>NaN</td>\n",
       "    </tr>\n",
       "    <tr>\n",
       "      <th>20180601050000</th>\n",
       "      <td>NaN</td>\n",
       "    </tr>\n",
       "    <tr>\n",
       "      <th>20180601060000</th>\n",
       "      <td>NaN</td>\n",
       "    </tr>\n",
       "    <tr>\n",
       "      <th>20180601070000</th>\n",
       "      <td>NaN</td>\n",
       "    </tr>\n",
       "    <tr>\n",
       "      <th>20180601080000</th>\n",
       "      <td>NaN</td>\n",
       "    </tr>\n",
       "    <tr>\n",
       "      <th>20180601090000</th>\n",
       "      <td>NaN</td>\n",
       "    </tr>\n",
       "    <tr>\n",
       "      <th>20180601100000</th>\n",
       "      <td>NaN</td>\n",
       "    </tr>\n",
       "    <tr>\n",
       "      <th>20180601110000</th>\n",
       "      <td>NaN</td>\n",
       "    </tr>\n",
       "    <tr>\n",
       "      <th>20180601120000</th>\n",
       "      <td>NaN</td>\n",
       "    </tr>\n",
       "    <tr>\n",
       "      <th>20180601130000</th>\n",
       "      <td>NaN</td>\n",
       "    </tr>\n",
       "    <tr>\n",
       "      <th>20180601140000</th>\n",
       "      <td>NaN</td>\n",
       "    </tr>\n",
       "    <tr>\n",
       "      <th>20180601150000</th>\n",
       "      <td>NaN</td>\n",
       "    </tr>\n",
       "    <tr>\n",
       "      <th>20180601160000</th>\n",
       "      <td>NaN</td>\n",
       "    </tr>\n",
       "    <tr>\n",
       "      <th>20180601170000</th>\n",
       "      <td>0.651632</td>\n",
       "    </tr>\n",
       "    <tr>\n",
       "      <th>20180601180000</th>\n",
       "      <td>0.680331</td>\n",
       "    </tr>\n",
       "    <tr>\n",
       "      <th>20180601190000</th>\n",
       "      <td>-0.083595</td>\n",
       "    </tr>\n",
       "    <tr>\n",
       "      <th>20180601200000</th>\n",
       "      <td>-0.562847</td>\n",
       "    </tr>\n",
       "    <tr>\n",
       "      <th>20180601210000</th>\n",
       "      <td>-1.035077</td>\n",
       "    </tr>\n",
       "    <tr>\n",
       "      <th>20180601220000</th>\n",
       "      <td>-1.156869</td>\n",
       "    </tr>\n",
       "    <tr>\n",
       "      <th>20180601230000</th>\n",
       "      <td>-1.187145</td>\n",
       "    </tr>\n",
       "    <tr>\n",
       "      <th>20180602000000</th>\n",
       "      <td>-1.252690</td>\n",
       "    </tr>\n",
       "    <tr>\n",
       "      <th>20180602010000</th>\n",
       "      <td>-0.997885</td>\n",
       "    </tr>\n",
       "    <tr>\n",
       "      <th>20180602020000</th>\n",
       "      <td>-1.027409</td>\n",
       "    </tr>\n",
       "    <tr>\n",
       "      <th>20180602030000</th>\n",
       "      <td>-0.914764</td>\n",
       "    </tr>\n",
       "    <tr>\n",
       "      <th>20180602040000</th>\n",
       "      <td>-0.721720</td>\n",
       "    </tr>\n",
       "    <tr>\n",
       "      <th>20180602050000</th>\n",
       "      <td>-0.488943</td>\n",
       "    </tr>\n",
       "    <tr>\n",
       "      <th>...</th>\n",
       "      <td>...</td>\n",
       "    </tr>\n",
       "    <tr>\n",
       "      <th>20180920180000</th>\n",
       "      <td>0.095579</td>\n",
       "    </tr>\n",
       "    <tr>\n",
       "      <th>20180920190000</th>\n",
       "      <td>0.229841</td>\n",
       "    </tr>\n",
       "    <tr>\n",
       "      <th>20180920200000</th>\n",
       "      <td>0.317602</td>\n",
       "    </tr>\n",
       "    <tr>\n",
       "      <th>20180920210000</th>\n",
       "      <td>0.341597</td>\n",
       "    </tr>\n",
       "    <tr>\n",
       "      <th>20180920220000</th>\n",
       "      <td>0.356577</td>\n",
       "    </tr>\n",
       "    <tr>\n",
       "      <th>20180920230000</th>\n",
       "      <td>0.383196</td>\n",
       "    </tr>\n",
       "    <tr>\n",
       "      <th>20180921000000</th>\n",
       "      <td>0.360146</td>\n",
       "    </tr>\n",
       "    <tr>\n",
       "      <th>20180921010000</th>\n",
       "      <td>0.216451</td>\n",
       "    </tr>\n",
       "    <tr>\n",
       "      <th>20180921020000</th>\n",
       "      <td>0.112150</td>\n",
       "    </tr>\n",
       "    <tr>\n",
       "      <th>20180921030000</th>\n",
       "      <td>0.069888</td>\n",
       "    </tr>\n",
       "    <tr>\n",
       "      <th>20180921040000</th>\n",
       "      <td>-0.097962</td>\n",
       "    </tr>\n",
       "    <tr>\n",
       "      <th>20180921050000</th>\n",
       "      <td>0.259060</td>\n",
       "    </tr>\n",
       "    <tr>\n",
       "      <th>20180921060000</th>\n",
       "      <td>0.736535</td>\n",
       "    </tr>\n",
       "    <tr>\n",
       "      <th>20180921070000</th>\n",
       "      <td>1.140743</td>\n",
       "    </tr>\n",
       "    <tr>\n",
       "      <th>20180921080000</th>\n",
       "      <td>1.351379</td>\n",
       "    </tr>\n",
       "    <tr>\n",
       "      <th>20180921090000</th>\n",
       "      <td>1.349560</td>\n",
       "    </tr>\n",
       "    <tr>\n",
       "      <th>20180921100000</th>\n",
       "      <td>1.791464</td>\n",
       "    </tr>\n",
       "    <tr>\n",
       "      <th>20180921110000</th>\n",
       "      <td>1.853214</td>\n",
       "    </tr>\n",
       "    <tr>\n",
       "      <th>20180921120000</th>\n",
       "      <td>1.804470</td>\n",
       "    </tr>\n",
       "    <tr>\n",
       "      <th>20180921130000</th>\n",
       "      <td>1.653689</td>\n",
       "    </tr>\n",
       "    <tr>\n",
       "      <th>20180921140000</th>\n",
       "      <td>1.500801</td>\n",
       "    </tr>\n",
       "    <tr>\n",
       "      <th>20180921150000</th>\n",
       "      <td>1.847817</td>\n",
       "    </tr>\n",
       "    <tr>\n",
       "      <th>20180921160000</th>\n",
       "      <td>2.297257</td>\n",
       "    </tr>\n",
       "    <tr>\n",
       "      <th>20180921170000</th>\n",
       "      <td>2.664093</td>\n",
       "    </tr>\n",
       "    <tr>\n",
       "      <th>20180921180000</th>\n",
       "      <td>2.734131</td>\n",
       "    </tr>\n",
       "    <tr>\n",
       "      <th>20180921190000</th>\n",
       "      <td>2.936396</td>\n",
       "    </tr>\n",
       "    <tr>\n",
       "      <th>20180921200000</th>\n",
       "      <td>3.038839</td>\n",
       "    </tr>\n",
       "    <tr>\n",
       "      <th>20180921210000</th>\n",
       "      <td>2.901437</td>\n",
       "    </tr>\n",
       "    <tr>\n",
       "      <th>20180921220000</th>\n",
       "      <td>2.491712</td>\n",
       "    </tr>\n",
       "    <tr>\n",
       "      <th>20180921230000</th>\n",
       "      <td>1.965861</td>\n",
       "    </tr>\n",
       "  </tbody>\n",
       "</table>\n",
       "<p>2694 rows × 1 columns</p>\n",
       "</div>"
      ],
      "text/plain": [
       "symbol          BTCUSDT:binance\n",
       "trade_date                     \n",
       "20180601000000              NaN\n",
       "20180601010000              NaN\n",
       "20180601020000              NaN\n",
       "20180601030000              NaN\n",
       "20180601040000              NaN\n",
       "20180601050000              NaN\n",
       "20180601060000              NaN\n",
       "20180601070000              NaN\n",
       "20180601080000              NaN\n",
       "20180601090000              NaN\n",
       "20180601100000              NaN\n",
       "20180601110000              NaN\n",
       "20180601120000              NaN\n",
       "20180601130000              NaN\n",
       "20180601140000              NaN\n",
       "20180601150000              NaN\n",
       "20180601160000              NaN\n",
       "20180601170000         0.651632\n",
       "20180601180000         0.680331\n",
       "20180601190000        -0.083595\n",
       "20180601200000        -0.562847\n",
       "20180601210000        -1.035077\n",
       "20180601220000        -1.156869\n",
       "20180601230000        -1.187145\n",
       "20180602000000        -1.252690\n",
       "20180602010000        -0.997885\n",
       "20180602020000        -1.027409\n",
       "20180602030000        -0.914764\n",
       "20180602040000        -0.721720\n",
       "20180602050000        -0.488943\n",
       "...                         ...\n",
       "20180920180000         0.095579\n",
       "20180920190000         0.229841\n",
       "20180920200000         0.317602\n",
       "20180920210000         0.341597\n",
       "20180920220000         0.356577\n",
       "20180920230000         0.383196\n",
       "20180921000000         0.360146\n",
       "20180921010000         0.216451\n",
       "20180921020000         0.112150\n",
       "20180921030000         0.069888\n",
       "20180921040000        -0.097962\n",
       "20180921050000         0.259060\n",
       "20180921060000         0.736535\n",
       "20180921070000         1.140743\n",
       "20180921080000         1.351379\n",
       "20180921090000         1.349560\n",
       "20180921100000         1.791464\n",
       "20180921110000         1.853214\n",
       "20180921120000         1.804470\n",
       "20180921130000         1.653689\n",
       "20180921140000         1.500801\n",
       "20180921150000         1.847817\n",
       "20180921160000         2.297257\n",
       "20180921170000         2.664093\n",
       "20180921180000         2.734131\n",
       "20180921190000         2.936396\n",
       "20180921200000         3.038839\n",
       "20180921210000         2.901437\n",
       "20180921220000         2.491712\n",
       "20180921230000         1.965861\n",
       "\n",
       "[2694 rows x 1 columns]"
      ]
     },
     "execution_count": 330,
     "metadata": {},
     "output_type": "execute_result"
    }
   ],
   "source": [
    "dv1H.add_formula(\"alpha27\",\"Ta('WMA',0,0,0,0,(close-Delay(close,3))/Delay(close,3)*100+(close-Delay(close,6))/Delay(close,6)*100,0,12)\",add_data=True)"
   ]
  },
  {
   "cell_type": "code",
   "execution_count": 349,
   "metadata": {},
   "outputs": [
    {
     "name": "stdout",
     "output_type": "stream",
     "text": [
      "Field [a27_ma1] is overwritten.\n",
      "Field [a27_ma2] is overwritten.\n"
     ]
    }
   ],
   "source": [
    "a27_ma1 = dv1H.add_formula('a27_ma1', 'Ts_Mean(alpha27,4)',add_data=True)\n",
    "a27_ma2 = dv1H.add_formula('a27_ma2', 'Ts_Mean(alpha27,20)', add_data=True)"
   ]
  },
  {
   "cell_type": "code",
   "execution_count": 350,
   "metadata": {},
   "outputs": [
    {
     "data": {
      "image/png": "[encoded data removed]",
      "text/plain": [
       "<Figure size 1080x1080 with 3 Axes>"
      ]
     },
     "metadata": {},
     "output_type": "display_data"
    }
   ],
   "source": [
    "a27 = dv1H.get_ts('alpha27', date_type='datetime')\n",
    "a27_ma1 = dv1H.get_ts('a27_ma1', date_type='datetime')\n",
    "a27_ma2 = dv1H.get_ts('a27_ma2', date_type='datetime')\n",
    "\n",
    "Plot_Mean(dv1H, a27.iloc[:,0], a27_ma1.iloc[:,0], a27_ma2.iloc[:,0], n=-300)"
   ]
  },
  {
   "cell_type": "markdown",
   "metadata": {},
   "source": [
    "### 根据标的物价格图以及alpha27因子的变动可知，我们仍可以对alpha27因子做短期长期均线处理，进而来判断入场信号"
   ]
  },
  {
   "cell_type": "markdown",
   "metadata": {},
   "source": [
    "# 5、观察两个因子，和价格图有什么联系，如果是蜡烛图，和成交量有什么联系，怎么找到相应的信号，提出自己信号进出场的假设。（分别完成两个因子的信号假设）\n",
    "\n",
    "信号进出场假设：可以借鉴MastatiscResearch，但不要将思路假设局限在均线上，可以观察大盘上的其他现象来写信号假设，也可以进行同时满足多个因子的信号来设计信号假设等等。\n",
    "\n",
    "此处需要说出联系、找到的信号、你的信号进出场假设是什么"
   ]
  },
  {
   "cell_type": "markdown",
   "metadata": {},
   "source": [
    "### （1）ROC20因子与价格图的联系比较简单且直接，即ROC20因子有一定的领先趋势，会在一定程度先于标的价格图发生同向变动，故我们可以通过对ROC20因子设置短期（4日、20日）的MA金叉死叉策略来对BTCUSDT的多空进行有效预测并套利，假设的信号为金叉买入、死叉卖出；"
   ]
  },
  {
   "cell_type": "markdown",
   "metadata": {},
   "source": [
    "### （2）alpha27因子与ROC因子较为相似，都具有一定的预测标的物走势的能力，故对alpha27因子设置短期、长期（4日、20日）的MA，金叉死叉策略作为假设信号。"
   ]
  },
  {
   "cell_type": "markdown",
   "metadata": {},
   "source": [
    "# 6、将你的其中一个假设落实，如果能完成两个更好，但不强求\n",
    "\n",
    "利用TimingSignal最后输出long、short、long_short这三个绩效表出来"
   ]
  },
  {
   "cell_type": "markdown",
   "metadata": {},
   "source": [
    "### （1）ROC20因子"
   ]
  },
  {
   "cell_type": "code",
   "execution_count": 384,
   "metadata": {},
   "outputs": [
    {
     "name": "stdout",
     "output_type": "stream",
     "text": [
      "Field [ROC20] is overwritten.\n",
      "Field [longROC20] is overwritten.\n",
      "Field [shortROC20] is overwritten.\n",
      "Field [closeLongROC20] is overwritten.\n",
      "Field [closeShortROC20] is overwritten.\n"
     ]
    }
   ],
   "source": [
    "dv1H.add_formula('ROC20', '((close/Delay(close, 20))-1)*100' , add_data=True)\n",
    "\n",
    "# 进场信号\n",
    "\n",
    "long = dv1H.add_formula(\"longROC20\",\"If((Ts_Mean(ROC20,4)>Ts_Mean(ROC20,20)) && (Delay(Ts_Mean(ROC20,4),1)<=Delay(Ts_Mean(ROC20,20),1)),2,0)\", add_data=True)\n",
    "short = dv1H.add_formula(\"shortROC20\",\"If((Ts_Mean(ROC20,4)<Ts_Mean(ROC20,20)) && (Delay(Ts_Mean(ROC20,4),1)>=Delay(Ts_Mean(ROC20,20),1)),-2,0)\", add_data=True)\n",
    "\n",
    "# 出场信号\n",
    "close_long = dv1H.add_formula(\"closeLongROC20\",\"If(shortROC20==-2,1,0)\", add_data=True)\n",
    "close_short = dv1H.add_formula(\"closeShortROC20\",\"If(longROC20==2,-1,0)\", add_data=True)"
   ]
  },
  {
   "cell_type": "code",
   "execution_count": 385,
   "metadata": {},
   "outputs": [
    {
     "data": {
      "text/plain": [
       "trade_date      symbol         \n",
       "20180916040000  BTCUSDT:binance    2.0\n",
       "20180917030000  BTCUSDT:binance    2.0\n",
       "20180918150000  BTCUSDT:binance    2.0\n",
       "20180920060000  BTCUSDT:binance    2.0\n",
       "20180921080000  BTCUSDT:binance    2.0\n",
       "dtype: float64"
      ]
     },
     "execution_count": 385,
     "metadata": {},
     "output_type": "execute_result"
    }
   ],
   "source": [
    "dv1H.get_ts('longROC20').stack()[dv1H.get_ts('longROC20').stack()==2].tail()"
   ]
  },
  {
   "cell_type": "code",
   "execution_count": 233,
   "metadata": {},
   "outputs": [],
   "source": [
    "from jaqs_fxdayu.research import TimingDigger\n",
    "\n",
    "tdMa = TimingDigger(output_folder=\".\", output_format='pdf',signal_name='Ma')\n",
    "\n",
    "def TimingSignal(td, dv, long='long', short='short',closeLong='closeLong', closeShort='closeShort'\\\n",
    "                 , mhp=None,sl=None,sp=None):\n",
    "    # step 1：实例化TimingDigger 通过output_folder和output_format指定测试报告的输出路径和输出格式，通过signal_name指定绩效文件名称\n",
    "\n",
    "    #多空信号分别计算一遍 输出汇总结果\n",
    "    td.process_signal(\n",
    "        enter_signal=dv.get_ts(long),\n",
    "        exit_signal=dv.get_ts(closeLong),\n",
    "        sig_type=\"long\",  # 信号类型 long/short\n",
    "        price=dv.get_ts('close'),\n",
    "        max_holding_period=mhp,  # 最大持有天数 可为空\n",
    "        stoploss=-sl,  # 止损百分比 负数 可为空\n",
    "        stopprofit=sp,  # 止盈百分比 正数 可为空\n",
    "    )\n",
    "\n",
    "    td.process_signal(\n",
    "        enter_signal=dv.get_ts(short),\n",
    "        exit_signal=dv.get_ts(closeShort),\n",
    "        sig_type=\"short\",  # 信号类型 long/short\n",
    "        price=dv.get_ts(\"close\"),\n",
    "        max_holding_period=mhp,  # 最大持有天数 可为空\n",
    "        stoploss=-sl,  # 止损百分比 负数 可为空\n",
    "        stopprofit=sp,  # 止盈百分比 正数 可为空\n",
    "    )"
   ]
  },
  {
   "cell_type": "code",
   "execution_count": 386,
   "metadata": {},
   "outputs": [
    {
     "name": "stdout",
     "output_type": "stream",
     "text": [
      "Nan Data Count (should be zero) : 0;  Percentage of effective data: 3%\n",
      "Nan Data Count (should be zero) : 0;  Percentage of effective data: 3%\n"
     ]
    }
   ],
   "source": [
    "from jaqs_fxdayu.research import TimingDigger\n",
    "\n",
    "tdAlpha1 = TimingDigger(output_folder=\".\", output_format='pdf',signal_name='ROC20')\n",
    "\n",
    "TimingSignal(tdAlpha1, dv1H,'longROC20','shortROC20','closeLongROC20','closeShortROC20', 100, 0.05, 0.3)"
   ]
  },
  {
   "cell_type": "code",
   "execution_count": 387,
   "metadata": {},
   "outputs": [
    {
     "name": "stdout",
     "output_type": "stream",
     "text": [
      "*****-Summary-*****\n",
      "Event Analysis\n",
      "                       win    loss     all\n",
      "t-stat               5.469  -5.417   1.770\n",
      "p-value              0.000   0.000   0.081\n",
      "mean                 0.014  -0.009   0.004\n",
      "std                  0.017   0.010   0.018\n",
      "info_ratio           0.844  -0.943   0.203\n",
      "skewness             1.881  -1.666   1.123\n",
      "kurtosis             2.865   1.841   3.056\n",
      "pct5                 0.001  -0.031  -0.025\n",
      "pct25                0.003  -0.012  -0.005\n",
      "pct50                0.008  -0.005   0.002\n",
      "pct75                0.017  -0.003   0.010\n",
      "pct95                0.052  -0.002   0.037\n",
      "occurance           43.000  34.000  77.000\n",
      "win_ratio              NaN     NaN   0.558\n",
      "win_mean/loss_mean     NaN     NaN   1.500\n"
     ]
    }
   ],
   "source": [
    "tdAlpha1.create_event_report(sig_type=\"long\")"
   ]
  },
  {
   "cell_type": "code",
   "execution_count": 388,
   "metadata": {},
   "outputs": [
    {
     "name": "stdout",
     "output_type": "stream",
     "text": [
      "*****-Summary-*****\n",
      "Event Analysis\n",
      "                       win    loss     all\n",
      "t-stat               5.165  -5.907   1.420\n",
      "p-value              0.000   0.000   0.160\n",
      "mean                 0.025  -0.016   0.005\n",
      "std                  0.031   0.016   0.032\n",
      "info_ratio           0.827  -0.971   0.162\n",
      "skewness             1.859  -1.595   1.319\n",
      "kurtosis             3.198   2.468   3.666\n",
      "pct5                 0.001  -0.047  -0.034\n",
      "pct25                0.004  -0.024  -0.008\n",
      "pct50                0.015  -0.010   0.001\n",
      "pct75                0.035  -0.005   0.015\n",
      "pct95                0.094  -0.001   0.058\n",
      "occurance           40.000  38.000  78.000\n",
      "win_ratio              NaN     NaN   0.513\n",
      "win_mean/loss_mean     NaN     NaN   1.587\n"
     ]
    }
   ],
   "source": [
    "tdAlpha1.create_event_report(sig_type=\"short\")"
   ]
  },
  {
   "cell_type": "code",
   "execution_count": 389,
   "metadata": {
    "scrolled": true
   },
   "outputs": [
    {
     "name": "stdout",
     "output_type": "stream",
     "text": [
      "*****-Summary-*****\n",
      "Event Analysis\n",
      "                       win    loss      all\n",
      "t-stat               7.067  -7.676    2.117\n",
      "p-value              0.000   0.000    0.036\n",
      "mean                 0.020  -0.013    0.004\n",
      "std                  0.025   0.014    0.026\n",
      "info_ratio           0.780  -0.911    0.171\n",
      "skewness             2.264  -1.879    1.451\n",
      "kurtosis             5.754   3.936    5.368\n",
      "pct5                 0.001  -0.038   -0.031\n",
      "pct25                0.004  -0.018   -0.006\n",
      "pct50                0.010  -0.006    0.001\n",
      "pct75                0.026  -0.003    0.010\n",
      "pct95                0.064  -0.001    0.051\n",
      "occurance           83.000  72.000  155.000\n",
      "win_ratio              NaN     NaN    0.535\n",
      "win_mean/loss_mean     NaN     NaN    1.517\n"
     ]
    }
   ],
   "source": [
    "tdAlpha1.create_event_report(sig_type=\"long_short\")"
   ]
  },
  {
   "cell_type": "markdown",
   "metadata": {},
   "source": [
    "### （2）alpha27"
   ]
  },
  {
   "cell_type": "code",
   "execution_count": 357,
   "metadata": {},
   "outputs": [
    {
     "name": "stdout",
     "output_type": "stream",
     "text": [
      "Field [longa27] is overwritten.\n",
      "Field [shorta27] is overwritten.\n",
      "Field [closeLonga27] is overwritten.\n",
      "Field [closeShorta27] is overwritten.\n"
     ]
    }
   ],
   "source": [
    "# 进场信号\n",
    "long = dv1H.add_formula(\"longa27\",\"If((Ts_Mean(alpha27,10)>Ts_Mean(alpha27,25)) && (Delay(Ts_Mean(alpha27,10),1)<=Delay(Ts_Mean(alpha27,25),1)),2,0)\", add_data=True)\n",
    "short = dv1H.add_formula(\"shorta27\",\"If((Ts_Mean(alpha27,10)<Ts_Mean(alpha27,25)) && (Delay(Ts_Mean(alpha27,10),1)>=Delay(Ts_Mean(alpha27,25),1)),-2,0)\", add_data=True)\n",
    "\n",
    "# 出场信号\n",
    "close_long = dv1H.add_formula(\"closeLonga27\",\"If(shorta27==-2,1,0)\", add_data=True)\n",
    "close_short = dv1H.add_formula(\"closeShorta27\",\"If(longa27==2,-1,0)\", add_data=True)"
   ]
  },
  {
   "cell_type": "code",
   "execution_count": 358,
   "metadata": {},
   "outputs": [
    {
     "data": {
      "text/plain": [
       "trade_date      symbol         \n",
       "20180915080000  BTCUSDT:binance    2.0\n",
       "20180917000000  BTCUSDT:binance    2.0\n",
       "20180918140000  BTCUSDT:binance    2.0\n",
       "20180920070000  BTCUSDT:binance    2.0\n",
       "20180921100000  BTCUSDT:binance    2.0\n",
       "dtype: float64"
      ]
     },
     "execution_count": 358,
     "metadata": {},
     "output_type": "execute_result"
    }
   ],
   "source": [
    "dv1H.get_ts('longa27').stack()[dv1H.get_ts('longa27').stack()==2].tail()"
   ]
  },
  {
   "cell_type": "code",
   "execution_count": 359,
   "metadata": {},
   "outputs": [
    {
     "name": "stdout",
     "output_type": "stream",
     "text": [
      "Nan Data Count (should be zero) : 0;  Percentage of effective data: 3%\n",
      "Nan Data Count (should be zero) : 0;  Percentage of effective data: 3%\n"
     ]
    }
   ],
   "source": [
    "from jaqs_fxdayu.research import TimingDigger\n",
    "\n",
    "tdAlpha3 = TimingDigger(output_folder=\".\", output_format='pdf',signal_name='alpha191_alpha27')\n",
    "\n",
    "TimingSignal(tdAlpha3, dv1H,'longa27','shorta27','closeLonga27','closeShorta27', 100, 0.05, 0.3)"
   ]
  },
  {
   "cell_type": "code",
   "execution_count": 360,
   "metadata": {},
   "outputs": [
    {
     "name": "stdout",
     "output_type": "stream",
     "text": [
      "*****-Summary-*****\n",
      "Event Analysis\n",
      "                       win    loss     all\n",
      "t-stat               6.029  -4.927   1.874\n",
      "p-value              0.000   0.000   0.065\n",
      "mean                 0.019  -0.011   0.005\n",
      "std                  0.019   0.012   0.022\n",
      "info_ratio           1.005  -0.885   0.227\n",
      "skewness             1.249  -1.753   0.636\n",
      "kurtosis             0.914   2.184   1.474\n",
      "pct5                 0.001  -0.040  -0.028\n",
      "pct25                0.005  -0.013  -0.006\n",
      "pct50                0.011  -0.007   0.001\n",
      "pct75                0.026  -0.003   0.013\n",
      "pct95                0.056  -0.001   0.047\n",
      "occurance           37.000  32.000  69.000\n",
      "win_ratio              NaN     NaN   0.536\n",
      "win_mean/loss_mean     NaN     NaN   1.709\n"
     ]
    }
   ],
   "source": [
    "tdAlpha3.create_event_report(sig_type=\"long\")"
   ]
  },
  {
   "cell_type": "code",
   "execution_count": 361,
   "metadata": {},
   "outputs": [
    {
     "name": "stdout",
     "output_type": "stream",
     "text": [
      "*****-Summary-*****\n",
      "Event Analysis\n",
      "                       win    loss     all\n",
      "t-stat               5.203  -5.566   1.598\n",
      "p-value              0.000   0.000   0.115\n",
      "mean                 0.026  -0.017   0.006\n",
      "std                  0.031   0.017   0.033\n",
      "info_ratio           0.855  -1.000   0.192\n",
      "skewness             1.739  -1.758   1.143\n",
      "kurtosis             2.489   2.643   2.888\n",
      "pct5                 0.002  -0.054  -0.037\n",
      "pct25                0.005  -0.021  -0.010\n",
      "pct50                0.011  -0.011   0.002\n",
      "pct75                0.036  -0.006   0.017\n",
      "pct95                0.094  -0.001   0.070\n",
      "occurance           38.000  32.000  70.000\n",
      "win_ratio              NaN     NaN   0.543\n",
      "win_mean/loss_mean     NaN     NaN   1.532\n"
     ]
    }
   ],
   "source": [
    "tdAlpha3.create_event_report(sig_type=\"short\")"
   ]
  },
  {
   "cell_type": "code",
   "execution_count": 362,
   "metadata": {},
   "outputs": [
    {
     "name": "stdout",
     "output_type": "stream",
     "text": [
      "*****-Summary-*****\n",
      "Event Analysis\n",
      "                       win    loss      all\n",
      "t-stat               7.525  -7.297    2.367\n",
      "p-value              0.000   0.000    0.019\n",
      "mean                 0.023  -0.014    0.006\n",
      "std                  0.026   0.015    0.028\n",
      "info_ratio           0.875  -0.919    0.202\n",
      "skewness             1.929  -1.898    1.129\n",
      "kurtosis             4.023   3.493    3.675\n",
      "pct5                 0.001  -0.048   -0.035\n",
      "pct25                0.005  -0.016   -0.008\n",
      "pct50                0.011  -0.009    0.001\n",
      "pct75                0.032  -0.005    0.013\n",
      "pct95                0.073  -0.001    0.055\n",
      "occurance           75.000  64.000  139.000\n",
      "win_ratio              NaN     NaN    0.540\n",
      "win_mean/loss_mean     NaN     NaN    1.605\n"
     ]
    }
   ],
   "source": [
    "tdAlpha3.create_event_report(sig_type=\"long_short\")"
   ]
  },
  {
   "cell_type": "markdown",
   "metadata": {},
   "source": [
    "# *策略通用性测试"
   ]
  },
  {
   "cell_type": "markdown",
   "metadata": {},
   "source": [
    "### （1）ROC20 因子"
   ]
  },
  {
   "cell_type": "code",
   "execution_count": 288,
   "metadata": {},
   "outputs": [],
   "source": [
    "start = time()\n",
    "path = r'./min_data/VnTrader_1Min_Db'\n",
    "props = {'fields': 'open,high,low,close,volume','symbol': 'EOSUSDT:binance',\n",
    "         'freq':'4H',\n",
    "         'start_date':20180601000000}\n",
    "\n",
    "Time_dict = ds.bar_reader(path,props) #读取数据"
   ]
  },
  {
   "cell_type": "code",
   "execution_count": 292,
   "metadata": {},
   "outputs": [],
   "source": [
    "from jaqs_fxdayu.data.hf_dataview import HFDataView\n",
    "dv1h = HFDataView()"
   ]
  },
  {
   "cell_type": "code",
   "execution_count": 293,
   "metadata": {},
   "outputs": [
    {
     "name": "stdout",
     "output_type": "stream",
     "text": [
      "Initialize dataview success.\n"
     ]
    }
   ],
   "source": [
    "dv1h.create_init_dv(Time_dict.dropna().set_index([\"trade_date\",\"symbol\"]))"
   ]
  },
  {
   "cell_type": "code",
   "execution_count": 396,
   "metadata": {},
   "outputs": [
    {
     "name": "stdout",
     "output_type": "stream",
     "text": [
      "Field [ROC20] is overwritten.\n",
      "Field [longROC20] is overwritten.\n",
      "Field [shortROC20] is overwritten.\n",
      "Field [closeLongROC20] is overwritten.\n",
      "Field [closeShortROC20] is overwritten.\n"
     ]
    }
   ],
   "source": [
    "dv1h.add_formula('ROC20', '((close/Delay(close, 20))-1)*100' , add_data=True)\n",
    "\n",
    "# 进场信号\n",
    "long = dv1h.add_formula(\"longROC20\",\"If((Ts_Mean(ROC20,10)>Ts_Mean(ROC20,35)) && (Delay(Ts_Mean(ROC20,10),1)<=Delay(Ts_Mean(ROC20,35),1)),2,0)\", add_data=True)\n",
    "short = dv1h.add_formula(\"shortROC20\",\"If((Ts_Mean(ROC20,10)<Ts_Mean(ROC20,35)) && (Delay(Ts_Mean(ROC20,10),1)>=Delay(Ts_Mean(ROC20,35),1)),-2,0)\", add_data=True)\n",
    "\n",
    "# 出场信号\n",
    "close_long = dv1h.add_formula(\"closeLongROC20\",\"If(shortROC20==-2,1,0)\", add_data=True)\n",
    "close_short = dv1h.add_formula(\"closeShortROC20\",\"If(longROC20==2,-1,0)\", add_data=True)"
   ]
  },
  {
   "cell_type": "code",
   "execution_count": 397,
   "metadata": {},
   "outputs": [
    {
     "data": {
      "text/plain": [
       "trade_date      symbol         \n",
       "20180804080000  EOSUSDT:binance    2.0\n",
       "20180813000000  EOSUSDT:binance    2.0\n",
       "20180825080000  EOSUSDT:binance    2.0\n",
       "20180910000000  EOSUSDT:binance    2.0\n",
       "20180921080000  EOSUSDT:binance    2.0\n",
       "dtype: float64"
      ]
     },
     "execution_count": 397,
     "metadata": {},
     "output_type": "execute_result"
    }
   ],
   "source": [
    "dv1h.get_ts('longROC20').stack()[dv1h.get_ts('longROC20').stack()==2].tail()"
   ]
  },
  {
   "cell_type": "code",
   "execution_count": 398,
   "metadata": {},
   "outputs": [
    {
     "name": "stdout",
     "output_type": "stream",
     "text": [
      "Nan Data Count (should be zero) : 0;  Percentage of effective data: 1%\n",
      "Nan Data Count (should be zero) : 0;  Percentage of effective data: 1%\n"
     ]
    }
   ],
   "source": [
    "from jaqs_fxdayu.research import TimingDigger\n",
    "\n",
    "tdAlpha2 = TimingDigger(output_folder=\".\", output_format='pdf',signal_name='ROC20')\n",
    "\n",
    "TimingSignal(tdAlpha2, dv1h,'longROC20','shortROC20','closeLongROC20','closeShortROC20', 100, 0.05, 0.3)"
   ]
  },
  {
   "cell_type": "code",
   "execution_count": 399,
   "metadata": {},
   "outputs": [
    {
     "name": "stdout",
     "output_type": "stream",
     "text": [
      "*****-Summary-*****\n",
      "Event Analysis\n",
      "                      win   loss    all\n",
      "t-stat              4.357 -4.139  0.913\n",
      "p-value             0.049  0.009  0.388\n",
      "mean                0.273 -0.056  0.053\n",
      "std                 0.089  0.030  0.165\n",
      "info_ratio          3.081 -1.851  0.323\n",
      "skewness           -0.675  0.403  0.889\n",
      "kurtosis           -1.500 -1.225 -0.907\n",
      "pct5                0.166 -0.091 -0.090\n",
      "pct25               0.236 -0.081 -0.070\n",
      "pct50               0.324 -0.062 -0.029\n",
      "pct75               0.335 -0.035  0.148\n",
      "pct95               0.344 -0.012  0.337\n",
      "occurance           3.000  6.000  9.000\n",
      "win_ratio             NaN    NaN  0.333\n",
      "win_mean/loss_mean    NaN    NaN  4.840\n"
     ]
    }
   ],
   "source": [
    "tdAlpha2.create_event_report(sig_type=\"long\")"
   ]
  },
  {
   "cell_type": "code",
   "execution_count": 400,
   "metadata": {},
   "outputs": [
    {
     "name": "stdout",
     "output_type": "stream",
     "text": [
      "*****-Summary-*****\n",
      "Event Analysis\n",
      "                      win   loss     all\n",
      "t-stat              5.228 -2.928   2.382\n",
      "p-value             0.002  0.100   0.041\n",
      "mean                0.150 -0.055   0.088\n",
      "std                 0.070  0.026   0.111\n",
      "info_ratio          2.134 -2.070   0.794\n",
      "skewness           -0.668  0.685  -0.238\n",
      "kurtosis            0.319 -1.500  -1.357\n",
      "pct5                0.045 -0.075  -0.073\n",
      "pct25               0.140 -0.073  -0.011\n",
      "pct50               0.154 -0.070   0.140\n",
      "pct75               0.175 -0.044   0.155\n",
      "pct95               0.239 -0.023   0.229\n",
      "occurance           7.000  3.000  10.000\n",
      "win_ratio             NaN    NaN   0.700\n",
      "win_mean/loss_mean    NaN    NaN   2.746\n"
     ]
    }
   ],
   "source": [
    "tdAlpha2.create_event_report(sig_type=\"short\")"
   ]
  },
  {
   "cell_type": "code",
   "execution_count": 401,
   "metadata": {},
   "outputs": [
    {
     "name": "stdout",
     "output_type": "stream",
     "text": [
      "*****-Summary-*****\n",
      "Event Analysis\n",
      "                       win   loss     all\n",
      "t-stat               5.912 -5.408   2.167\n",
      "p-value              0.000  0.001   0.044\n",
      "mean                 0.187 -0.056   0.072\n",
      "std                  0.095  0.029   0.141\n",
      "info_ratio           1.971 -1.912   0.511\n",
      "skewness             0.094  0.463   0.479\n",
      "kurtosis            -0.394 -1.252  -1.063\n",
      "pct5                 0.065 -0.090  -0.086\n",
      "pct25                0.145 -0.076  -0.062\n",
      "pct50                0.155 -0.070   0.006\n",
      "pct75                0.242 -0.029   0.155\n",
      "pct95                0.336 -0.011   0.326\n",
      "occurance           10.000  9.000  19.000\n",
      "win_ratio              NaN    NaN   0.526\n",
      "win_mean/loss_mean     NaN    NaN   3.348\n"
     ]
    }
   ],
   "source": [
    "tdAlpha2.create_event_report(sig_type=\"long_short\")"
   ]
  },
  {
   "cell_type": "markdown",
   "metadata": {},
   "source": [
    "### （2）alpha27"
   ]
  },
  {
   "cell_type": "code",
   "execution_count": 370,
   "metadata": {},
   "outputs": [],
   "source": [
    "# 进场信号\n",
    "long = dv1h.add_formula(\"longa27\",\"If((Ts_Mean(alpha27,4)>Ts_Mean(alpha27,20)) && (Delay(Ts_Mean(alpha27,4),1)<=Delay(Ts_Mean(alpha27,20),1)),2,0)\", add_data=True)\n",
    "short = dv1h.add_formula(\"shorta27\",\"If((Ts_Mean(alpha27,4)<Ts_Mean(alpha27,20)) && (Delay(Ts_Mean(alpha27,4),1)>=Delay(Ts_Mean(alpha27,20),1)),-2,0)\", add_data=True)\n",
    "\n",
    "# 出场信号\n",
    "close_long = dv1h.add_formula(\"closeLonga27\",\"If(shorta27==-2,1,0)\", add_data=True)\n",
    "close_short = dv1h.add_formula(\"closeShorta27\",\"If(longa27==2,-1,0)\", add_data=True)"
   ]
  },
  {
   "cell_type": "code",
   "execution_count": 371,
   "metadata": {},
   "outputs": [
    {
     "data": {
      "text/plain": [
       "trade_date      symbol         \n",
       "20180828000000  EOSUSDT:binance    2.0\n",
       "20180901160000  EOSUSDT:binance    2.0\n",
       "20180907200000  EOSUSDT:binance    2.0\n",
       "20180913160000  EOSUSDT:binance    2.0\n",
       "20180919120000  EOSUSDT:binance    2.0\n",
       "dtype: float64"
      ]
     },
     "execution_count": 371,
     "metadata": {},
     "output_type": "execute_result"
    }
   ],
   "source": [
    "dv1h.get_ts('longa27').stack()[dv1h.get_ts('longa27').stack()==2].tail()"
   ]
  },
  {
   "cell_type": "code",
   "execution_count": 372,
   "metadata": {},
   "outputs": [
    {
     "name": "stdout",
     "output_type": "stream",
     "text": [
      "Nan Data Count (should be zero) : 0;  Percentage of effective data: 4%\n",
      "Nan Data Count (should be zero) : 0;  Percentage of effective data: 4%\n"
     ]
    }
   ],
   "source": [
    "tdAlpha3 = TimingDigger(output_folder=\".\", output_format='pdf',signal_name='a33')\n",
    "\n",
    "TimingSignal(tdAlpha3, dv1h,'longa27','shorta27','closeLonga27','closeShorta27', 100, 0.05, 0.3)"
   ]
  },
  {
   "cell_type": "code",
   "execution_count": 373,
   "metadata": {},
   "outputs": [
    {
     "name": "stdout",
     "output_type": "stream",
     "text": [
      "*****-Summary-*****\n",
      "Event Analysis\n",
      "                       win    loss     all\n",
      "t-stat               2.527  -9.325   0.014\n",
      "p-value              0.030   0.000   0.989\n",
      "mean                 0.069  -0.058   0.000\n",
      "std                  0.086   0.021   0.087\n",
      "info_ratio           0.799  -2.692   0.003\n",
      "skewness             1.779   0.383   1.832\n",
      "kurtosis             2.416  -0.237   3.813\n",
      "pct5                 0.004  -0.091  -0.087\n",
      "pct25                0.010  -0.070  -0.059\n",
      "pct50                0.026  -0.059  -0.018\n",
      "pct75                0.100  -0.052   0.020\n",
      "pct95                0.214  -0.019   0.120\n",
      "occurance           11.000  13.000  24.000\n",
      "win_ratio              NaN     NaN   0.458\n",
      "win_mean/loss_mean     NaN     NaN   1.191\n"
     ]
    }
   ],
   "source": [
    "tdAlpha3.create_event_report(sig_type=\"long\")"
   ]
  },
  {
   "cell_type": "code",
   "execution_count": 374,
   "metadata": {},
   "outputs": [
    {
     "name": "stdout",
     "output_type": "stream",
     "text": [
      "*****-Summary-*****\n",
      "Event Analysis\n",
      "                       win    loss     all\n",
      "t-stat               3.931  -4.540   1.946\n",
      "p-value              0.002   0.001   0.063\n",
      "mean                 0.094  -0.044   0.039\n",
      "std                  0.090   0.029   0.099\n",
      "info_ratio           1.050  -1.513   0.397\n",
      "skewness             1.215   0.155   1.169\n",
      "kurtosis             0.193  -1.575   0.876\n",
      "pct5                 0.005  -0.079  -0.072\n",
      "pct25                0.034  -0.068  -0.017\n",
      "pct50                0.073  -0.052   0.024\n",
      "pct75                0.100  -0.014   0.077\n",
      "pct95                0.262  -0.006   0.241\n",
      "occurance           15.000  10.000  25.000\n",
      "win_ratio              NaN     NaN   0.600\n",
      "win_mean/loss_mean     NaN     NaN   2.167\n"
     ]
    }
   ],
   "source": [
    "tdAlpha3.create_event_report(sig_type=\"short\")"
   ]
  },
  {
   "cell_type": "code",
   "execution_count": 375,
   "metadata": {},
   "outputs": [
    {
     "name": "stdout",
     "output_type": "stream",
     "text": [
      "*****-Summary-*****\n",
      "Event Analysis\n",
      "                       win    loss     all\n",
      "t-stat               4.685  -9.349   1.465\n",
      "p-value              0.000   0.000   0.149\n",
      "mean                 0.084  -0.052   0.020\n",
      "std                  0.089   0.026   0.095\n",
      "info_ratio           0.937  -1.993   0.211\n",
      "skewness             1.410   0.444   1.424\n",
      "kurtosis             0.901  -0.871   1.821\n",
      "pct5                 0.004  -0.090  -0.080\n",
      "pct25                0.019  -0.070  -0.053\n",
      "pct50                0.054  -0.054   0.003\n",
      "pct75                0.105  -0.034   0.056\n",
      "pct95                0.290  -0.006   0.240\n",
      "occurance           26.000  23.000  49.000\n",
      "win_ratio              NaN     NaN   0.531\n",
      "win_mean/loss_mean     NaN     NaN   1.621\n"
     ]
    }
   ],
   "source": [
    "tdAlpha3.create_event_report(sig_type=\"long_short\")"
   ]
  }
 ],
 "metadata": {
  "kernelspec": {
   "display_name": "Python 3",
   "language": "python",
   "name": "python3"
  },
  "language_info": {
   "codemirror_mode": {
    "name": "ipython",
    "version": 3
   },
   "file_extension": ".py",
   "mimetype": "text/x-python",
   "name": "python",
   "nbconvert_exporter": "python",
   "pygments_lexer": "ipython3",
   "version": "3.6.5"
  }
 },
 "nbformat": 4,
 "nbformat_minor": 2
}
