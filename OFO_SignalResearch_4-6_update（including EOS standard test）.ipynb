{
 "cells": [
  {
   "cell_type": "markdown",
   "metadata": {},
   "source": [
    "# 4、调用alpha101、alpha191、技术因子、candleresearch或者自己创造衍生因子，要求：任意两个因子，进行画图观察，主要例子看alpha101research和candleresearch，写研究报告（画了什么因子，思考了什么现象，对现象进行描述）\n",
    "\n",
    "\n",
    "https://github.com/ChannelCMT/formula/wiki\n",
    "\n",
    "数据类型和周期自定"
   ]
  },
  {
   "cell_type": "markdown",
   "metadata": {},
   "source": [
    "## （1）因子1：ROC20，20日变动速率(20-day Price Rate of Change). 是一个动能指标，其以当日的收盘价和N天前的收盘价比较，通过计算股价某一段时间内收盘价变动的比例，应用价格的移动比较来测量价位动量"
   ]
  },
  {
   "cell_type": "code",
   "execution_count": 661,
   "metadata": {},
   "outputs": [],
   "source": [
    "import warnings\n",
    "warnings.filterwarnings('ignore')\n",
    "\n",
    "from time import time\n",
    "\n",
    "from jaqs_fxdayu.data.dataservice import LocalDataService\n",
    "ds = LocalDataService()\n",
    "\n",
    "## 加freq参数\n",
    "\n",
    "start = time()\n",
    "path = r'./min_data/VnTrader_1Min_Db'\n",
    "props = {'fields': 'open,high,low,close,volume','symbol': 'BTCUSDT:binance', 'freq':'8H',\n",
    "         'start_date':20180601000000}\n",
    "\n",
    "Time_dict = ds.bar_reader(path,props) #读取数据"
   ]
  },
  {
   "cell_type": "code",
   "execution_count": 662,
   "metadata": {},
   "outputs": [
    {
     "name": "stdout",
     "output_type": "stream",
     "text": [
      "Initialize dataview success.\n"
     ]
    }
   ],
   "source": [
    "from jaqs_fxdayu.data.hf_dataview import HFDataView\n",
    "dv1H = HFDataView()\n",
    "dv1H.create_init_dv(Time_dict.dropna().set_index([\"trade_date\",\"symbol\"]))"
   ]
  },
  {
   "cell_type": "code",
   "execution_count": 663,
   "metadata": {},
   "outputs": [],
   "source": [
    "import matplotlib.pyplot as plt\n",
    "import pandas as pd\n",
    "\n",
    "def Plot_Mean(dv, ROC, ROC_MA1, ROC_MA2, chart_name='dv_alpha', n=0):\n",
    "    fig,(ax,ax1,ax2) = plt.subplots(3,1,sharex=True, figsize=(15,15))\n",
    "    ax.plot(dv.get_ts('close', date_type='datetime').iloc[:,0].iloc[n:])\n",
    "    ax.set_title(chart_name,fontsize=24,color='b')\n",
    "    ax1.plot(ROC.iloc[n:], alpha=1)\n",
    "    ax2.plot(ROC_MA1.iloc[n:], alpha=1)\n",
    "    ax2.plot(ROC_MA2.iloc[n:], alpha=3)\n",
    "    plt.show()"
   ]
  },
  {
   "cell_type": "code",
   "execution_count": 664,
   "metadata": {
    "scrolled": true
   },
   "outputs": [
    {
     "data": {
      "text/html": [
       "<div>\n",
       "<style>\n",
       "    .dataframe thead tr:only-child th {\n",
       "        text-align: right;\n",
       "    }\n",
       "\n",
       "    .dataframe thead th {\n",
       "        text-align: left;\n",
       "    }\n",
       "\n",
       "    .dataframe tbody tr th {\n",
       "        vertical-align: top;\n",
       "    }\n",
       "</style>\n",
       "<table border=\"1\" class=\"dataframe\">\n",
       "  <thead>\n",
       "    <tr style=\"text-align: right;\">\n",
       "      <th>symbol</th>\n",
       "      <th>BTCUSDT:binance</th>\n",
       "    </tr>\n",
       "    <tr>\n",
       "      <th>trade_date</th>\n",
       "      <th></th>\n",
       "    </tr>\n",
       "  </thead>\n",
       "  <tbody>\n",
       "    <tr>\n",
       "      <th>20180601000000</th>\n",
       "      <td>NaN</td>\n",
       "    </tr>\n",
       "    <tr>\n",
       "      <th>20180601080000</th>\n",
       "      <td>NaN</td>\n",
       "    </tr>\n",
       "    <tr>\n",
       "      <th>20180601160000</th>\n",
       "      <td>NaN</td>\n",
       "    </tr>\n",
       "    <tr>\n",
       "      <th>20180602000000</th>\n",
       "      <td>NaN</td>\n",
       "    </tr>\n",
       "    <tr>\n",
       "      <th>20180602080000</th>\n",
       "      <td>NaN</td>\n",
       "    </tr>\n",
       "    <tr>\n",
       "      <th>20180602160000</th>\n",
       "      <td>NaN</td>\n",
       "    </tr>\n",
       "    <tr>\n",
       "      <th>20180603000000</th>\n",
       "      <td>NaN</td>\n",
       "    </tr>\n",
       "    <tr>\n",
       "      <th>20180603080000</th>\n",
       "      <td>NaN</td>\n",
       "    </tr>\n",
       "    <tr>\n",
       "      <th>20180603160000</th>\n",
       "      <td>NaN</td>\n",
       "    </tr>\n",
       "    <tr>\n",
       "      <th>20180604000000</th>\n",
       "      <td>NaN</td>\n",
       "    </tr>\n",
       "    <tr>\n",
       "      <th>20180604080000</th>\n",
       "      <td>NaN</td>\n",
       "    </tr>\n",
       "    <tr>\n",
       "      <th>20180604160000</th>\n",
       "      <td>NaN</td>\n",
       "    </tr>\n",
       "    <tr>\n",
       "      <th>20180605000000</th>\n",
       "      <td>NaN</td>\n",
       "    </tr>\n",
       "    <tr>\n",
       "      <th>20180605080000</th>\n",
       "      <td>NaN</td>\n",
       "    </tr>\n",
       "    <tr>\n",
       "      <th>20180605160000</th>\n",
       "      <td>NaN</td>\n",
       "    </tr>\n",
       "    <tr>\n",
       "      <th>20180606000000</th>\n",
       "      <td>NaN</td>\n",
       "    </tr>\n",
       "    <tr>\n",
       "      <th>20180606080000</th>\n",
       "      <td>NaN</td>\n",
       "    </tr>\n",
       "    <tr>\n",
       "      <th>20180606160000</th>\n",
       "      <td>NaN</td>\n",
       "    </tr>\n",
       "    <tr>\n",
       "      <th>20180607000000</th>\n",
       "      <td>NaN</td>\n",
       "    </tr>\n",
       "    <tr>\n",
       "      <th>20180607080000</th>\n",
       "      <td>NaN</td>\n",
       "    </tr>\n",
       "    <tr>\n",
       "      <th>20180607160000</th>\n",
       "      <td>2.757779</td>\n",
       "    </tr>\n",
       "    <tr>\n",
       "      <th>20180608000000</th>\n",
       "      <td>1.571429</td>\n",
       "    </tr>\n",
       "    <tr>\n",
       "      <th>20180608080000</th>\n",
       "      <td>2.424771</td>\n",
       "    </tr>\n",
       "    <tr>\n",
       "      <th>20180608160000</th>\n",
       "      <td>1.416033</td>\n",
       "    </tr>\n",
       "    <tr>\n",
       "      <th>20180609000000</th>\n",
       "      <td>-0.491559</td>\n",
       "    </tr>\n",
       "    <tr>\n",
       "      <th>20180609080000</th>\n",
       "      <td>0.339888</td>\n",
       "    </tr>\n",
       "    <tr>\n",
       "      <th>20180609160000</th>\n",
       "      <td>-0.393061</td>\n",
       "    </tr>\n",
       "    <tr>\n",
       "      <th>20180610000000</th>\n",
       "      <td>-2.956865</td>\n",
       "    </tr>\n",
       "    <tr>\n",
       "      <th>20180610080000</th>\n",
       "      <td>-7.043717</td>\n",
       "    </tr>\n",
       "    <tr>\n",
       "      <th>20180610160000</th>\n",
       "      <td>-6.293280</td>\n",
       "    </tr>\n",
       "    <tr>\n",
       "      <th>...</th>\n",
       "      <td>...</td>\n",
       "    </tr>\n",
       "    <tr>\n",
       "      <th>20180912000000</th>\n",
       "      <td>-14.554455</td>\n",
       "    </tr>\n",
       "    <tr>\n",
       "      <th>20180912080000</th>\n",
       "      <td>-10.659197</td>\n",
       "    </tr>\n",
       "    <tr>\n",
       "      <th>20180912160000</th>\n",
       "      <td>-6.427015</td>\n",
       "    </tr>\n",
       "    <tr>\n",
       "      <th>20180913000000</th>\n",
       "      <td>-1.049973</td>\n",
       "    </tr>\n",
       "    <tr>\n",
       "      <th>20180913080000</th>\n",
       "      <td>-0.583884</td>\n",
       "    </tr>\n",
       "    <tr>\n",
       "      <th>20180913160000</th>\n",
       "      <td>-0.552639</td>\n",
       "    </tr>\n",
       "    <tr>\n",
       "      <th>20180914000000</th>\n",
       "      <td>0.014338</td>\n",
       "    </tr>\n",
       "    <tr>\n",
       "      <th>20180914080000</th>\n",
       "      <td>2.637362</td>\n",
       "    </tr>\n",
       "    <tr>\n",
       "      <th>20180914160000</th>\n",
       "      <td>1.320608</td>\n",
       "    </tr>\n",
       "    <tr>\n",
       "      <th>20180915000000</th>\n",
       "      <td>0.428127</td>\n",
       "    </tr>\n",
       "    <tr>\n",
       "      <th>20180915080000</th>\n",
       "      <td>1.067129</td>\n",
       "    </tr>\n",
       "    <tr>\n",
       "      <th>20180915160000</th>\n",
       "      <td>5.774731</td>\n",
       "    </tr>\n",
       "    <tr>\n",
       "      <th>20180916000000</th>\n",
       "      <td>5.286668</td>\n",
       "    </tr>\n",
       "    <tr>\n",
       "      <th>20180916080000</th>\n",
       "      <td>1.236762</td>\n",
       "    </tr>\n",
       "    <tr>\n",
       "      <th>20180916160000</th>\n",
       "      <td>3.698561</td>\n",
       "    </tr>\n",
       "    <tr>\n",
       "      <th>20180917000000</th>\n",
       "      <td>2.825529</td>\n",
       "    </tr>\n",
       "    <tr>\n",
       "      <th>20180917080000</th>\n",
       "      <td>2.926900</td>\n",
       "    </tr>\n",
       "    <tr>\n",
       "      <th>20180917160000</th>\n",
       "      <td>-0.743663</td>\n",
       "    </tr>\n",
       "    <tr>\n",
       "      <th>20180918000000</th>\n",
       "      <td>-0.974614</td>\n",
       "    </tr>\n",
       "    <tr>\n",
       "      <th>20180918080000</th>\n",
       "      <td>0.632256</td>\n",
       "    </tr>\n",
       "    <tr>\n",
       "      <th>20180918160000</th>\n",
       "      <td>1.034169</td>\n",
       "    </tr>\n",
       "    <tr>\n",
       "      <th>20180919000000</th>\n",
       "      <td>1.465346</td>\n",
       "    </tr>\n",
       "    <tr>\n",
       "      <th>20180919080000</th>\n",
       "      <td>1.396627</td>\n",
       "    </tr>\n",
       "    <tr>\n",
       "      <th>20180919160000</th>\n",
       "      <td>-0.168333</td>\n",
       "    </tr>\n",
       "    <tr>\n",
       "      <th>20180920000000</th>\n",
       "      <td>0.107752</td>\n",
       "    </tr>\n",
       "    <tr>\n",
       "      <th>20180920080000</th>\n",
       "      <td>-1.064815</td>\n",
       "    </tr>\n",
       "    <tr>\n",
       "      <th>20180920160000</th>\n",
       "      <td>-1.070694</td>\n",
       "    </tr>\n",
       "    <tr>\n",
       "      <th>20180921000000</th>\n",
       "      <td>-0.792195</td>\n",
       "    </tr>\n",
       "    <tr>\n",
       "      <th>20180921080000</th>\n",
       "      <td>2.591204</td>\n",
       "    </tr>\n",
       "    <tr>\n",
       "      <th>20180921160000</th>\n",
       "      <td>3.185916</td>\n",
       "    </tr>\n",
       "  </tbody>\n",
       "</table>\n",
       "<p>339 rows × 1 columns</p>\n",
       "</div>"
      ],
      "text/plain": [
       "symbol          BTCUSDT:binance\n",
       "trade_date                     \n",
       "20180601000000              NaN\n",
       "20180601080000              NaN\n",
       "20180601160000              NaN\n",
       "20180602000000              NaN\n",
       "20180602080000              NaN\n",
       "20180602160000              NaN\n",
       "20180603000000              NaN\n",
       "20180603080000              NaN\n",
       "20180603160000              NaN\n",
       "20180604000000              NaN\n",
       "20180604080000              NaN\n",
       "20180604160000              NaN\n",
       "20180605000000              NaN\n",
       "20180605080000              NaN\n",
       "20180605160000              NaN\n",
       "20180606000000              NaN\n",
       "20180606080000              NaN\n",
       "20180606160000              NaN\n",
       "20180607000000              NaN\n",
       "20180607080000              NaN\n",
       "20180607160000         2.757779\n",
       "20180608000000         1.571429\n",
       "20180608080000         2.424771\n",
       "20180608160000         1.416033\n",
       "20180609000000        -0.491559\n",
       "20180609080000         0.339888\n",
       "20180609160000        -0.393061\n",
       "20180610000000        -2.956865\n",
       "20180610080000        -7.043717\n",
       "20180610160000        -6.293280\n",
       "...                         ...\n",
       "20180912000000       -14.554455\n",
       "20180912080000       -10.659197\n",
       "20180912160000        -6.427015\n",
       "20180913000000        -1.049973\n",
       "20180913080000        -0.583884\n",
       "20180913160000        -0.552639\n",
       "20180914000000         0.014338\n",
       "20180914080000         2.637362\n",
       "20180914160000         1.320608\n",
       "20180915000000         0.428127\n",
       "20180915080000         1.067129\n",
       "20180915160000         5.774731\n",
       "20180916000000         5.286668\n",
       "20180916080000         1.236762\n",
       "20180916160000         3.698561\n",
       "20180917000000         2.825529\n",
       "20180917080000         2.926900\n",
       "20180917160000        -0.743663\n",
       "20180918000000        -0.974614\n",
       "20180918080000         0.632256\n",
       "20180918160000         1.034169\n",
       "20180919000000         1.465346\n",
       "20180919080000         1.396627\n",
       "20180919160000        -0.168333\n",
       "20180920000000         0.107752\n",
       "20180920080000        -1.064815\n",
       "20180920160000        -1.070694\n",
       "20180921000000        -0.792195\n",
       "20180921080000         2.591204\n",
       "20180921160000         3.185916\n",
       "\n",
       "[339 rows x 1 columns]"
      ]
     },
     "execution_count": 664,
     "metadata": {},
     "output_type": "execute_result"
    }
   ],
   "source": [
    "dv1H.add_formula('ROC20', '((close/Delay(close,20))-1)*100' , add_data=True)"
   ]
  },
  {
   "cell_type": "code",
   "execution_count": 849,
   "metadata": {},
   "outputs": [
    {
     "name": "stdout",
     "output_type": "stream",
     "text": [
      "Field [roc20_ma1] is overwritten.\n",
      "Field [roc20_ma2] is overwritten.\n"
     ]
    }
   ],
   "source": [
    "roc20_ma1 = dv1H.add_formula('roc20_ma1', 'Ts_Mean(ROC20,5)',add_data=True)\n",
    "roc20_ma2 = dv1H.add_formula('roc20_ma2', 'Ts_Mean(ROC20,25)', add_data=True)"
   ]
  },
  {
   "cell_type": "code",
   "execution_count": 850,
   "metadata": {},
   "outputs": [
    {
     "data": {
      "image/png": "[encoded data removed]",
      "text/plain": [
       "<Figure size 1080x1080 with 3 Axes>"
      ]
     },
     "metadata": {},
     "output_type": "display_data"
    }
   ],
   "source": [
    "roc = dv1H.get_ts('ROC20', date_type='datetime')\n",
    "roc20_ma1 = dv1H.get_ts('roc20_ma1', date_type='datetime')\n",
    "roc20_ma2 = dv1H.get_ts('roc20_ma2', date_type='datetime')\n",
    "\n",
    "Plot_Mean(dv1H, roc.iloc[:,0], roc20_ma1.iloc[:,0], roc20_ma2.iloc[:,0], n=-300)"
   ]
  },
  {
   "cell_type": "markdown",
   "metadata": {},
   "source": [
    "### 对比BTCUSDT 8H收盘价与其ROC20指标的图表，发现ROC20与标的物价格图在趋势上能够部分吻合，主要表现为ROC20几乎领先或与标的物价格变动趋势一致；对ROC20进行短期和长期（5日、25日）MA处理，通过ROC20指标的短期和长期MA的组合来确定进出场时机。当短期MA上穿长期时，作为多单信号；短期MA下穿长期时，为空单信号。"
   ]
  },
  {
   "cell_type": "markdown",
   "metadata": {},
   "source": [
    "## （2）因子2：alpha191 - alpha27，wma"
   ]
  },
  {
   "cell_type": "code",
   "execution_count": 684,
   "metadata": {},
   "outputs": [
    {
     "data": {
      "text/html": [
       "<div>\n",
       "<style>\n",
       "    .dataframe thead tr:only-child th {\n",
       "        text-align: right;\n",
       "    }\n",
       "\n",
       "    .dataframe thead th {\n",
       "        text-align: left;\n",
       "    }\n",
       "\n",
       "    .dataframe tbody tr th {\n",
       "        vertical-align: top;\n",
       "    }\n",
       "</style>\n",
       "<table border=\"1\" class=\"dataframe\">\n",
       "  <thead>\n",
       "    <tr style=\"text-align: right;\">\n",
       "      <th>symbol</th>\n",
       "      <th>BTCUSDT:binance</th>\n",
       "    </tr>\n",
       "    <tr>\n",
       "      <th>trade_date</th>\n",
       "      <th></th>\n",
       "    </tr>\n",
       "  </thead>\n",
       "  <tbody>\n",
       "    <tr>\n",
       "      <th>20180601000000</th>\n",
       "      <td>NaN</td>\n",
       "    </tr>\n",
       "    <tr>\n",
       "      <th>20180601080000</th>\n",
       "      <td>NaN</td>\n",
       "    </tr>\n",
       "    <tr>\n",
       "      <th>20180601160000</th>\n",
       "      <td>NaN</td>\n",
       "    </tr>\n",
       "    <tr>\n",
       "      <th>20180602000000</th>\n",
       "      <td>NaN</td>\n",
       "    </tr>\n",
       "    <tr>\n",
       "      <th>20180602080000</th>\n",
       "      <td>NaN</td>\n",
       "    </tr>\n",
       "    <tr>\n",
       "      <th>20180602160000</th>\n",
       "      <td>NaN</td>\n",
       "    </tr>\n",
       "    <tr>\n",
       "      <th>20180603000000</th>\n",
       "      <td>NaN</td>\n",
       "    </tr>\n",
       "    <tr>\n",
       "      <th>20180603080000</th>\n",
       "      <td>NaN</td>\n",
       "    </tr>\n",
       "    <tr>\n",
       "      <th>20180603160000</th>\n",
       "      <td>NaN</td>\n",
       "    </tr>\n",
       "    <tr>\n",
       "      <th>20180604000000</th>\n",
       "      <td>NaN</td>\n",
       "    </tr>\n",
       "    <tr>\n",
       "      <th>20180604080000</th>\n",
       "      <td>NaN</td>\n",
       "    </tr>\n",
       "    <tr>\n",
       "      <th>20180604160000</th>\n",
       "      <td>NaN</td>\n",
       "    </tr>\n",
       "    <tr>\n",
       "      <th>20180605000000</th>\n",
       "      <td>NaN</td>\n",
       "    </tr>\n",
       "    <tr>\n",
       "      <th>20180605080000</th>\n",
       "      <td>NaN</td>\n",
       "    </tr>\n",
       "    <tr>\n",
       "      <th>20180605160000</th>\n",
       "      <td>NaN</td>\n",
       "    </tr>\n",
       "    <tr>\n",
       "      <th>20180606000000</th>\n",
       "      <td>NaN</td>\n",
       "    </tr>\n",
       "    <tr>\n",
       "      <th>20180606080000</th>\n",
       "      <td>NaN</td>\n",
       "    </tr>\n",
       "    <tr>\n",
       "      <th>20180606160000</th>\n",
       "      <td>-0.215042</td>\n",
       "    </tr>\n",
       "    <tr>\n",
       "      <th>20180607000000</th>\n",
       "      <td>0.167263</td>\n",
       "    </tr>\n",
       "    <tr>\n",
       "      <th>20180607080000</th>\n",
       "      <td>0.934954</td>\n",
       "    </tr>\n",
       "    <tr>\n",
       "      <th>20180607160000</th>\n",
       "      <td>1.194112</td>\n",
       "    </tr>\n",
       "    <tr>\n",
       "      <th>20180608000000</th>\n",
       "      <td>1.377336</td>\n",
       "    </tr>\n",
       "    <tr>\n",
       "      <th>20180608080000</th>\n",
       "      <td>1.248465</td>\n",
       "    </tr>\n",
       "    <tr>\n",
       "      <th>20180608160000</th>\n",
       "      <td>1.072739</td>\n",
       "    </tr>\n",
       "    <tr>\n",
       "      <th>20180609000000</th>\n",
       "      <td>0.739158</td>\n",
       "    </tr>\n",
       "    <tr>\n",
       "      <th>20180609080000</th>\n",
       "      <td>0.576866</td>\n",
       "    </tr>\n",
       "    <tr>\n",
       "      <th>20180609160000</th>\n",
       "      <td>0.215945</td>\n",
       "    </tr>\n",
       "    <tr>\n",
       "      <th>20180610000000</th>\n",
       "      <td>-0.566723</td>\n",
       "    </tr>\n",
       "    <tr>\n",
       "      <th>20180610080000</th>\n",
       "      <td>-2.488113</td>\n",
       "    </tr>\n",
       "    <tr>\n",
       "      <th>20180610160000</th>\n",
       "      <td>-3.968565</td>\n",
       "    </tr>\n",
       "    <tr>\n",
       "      <th>...</th>\n",
       "      <td>...</td>\n",
       "    </tr>\n",
       "    <tr>\n",
       "      <th>20180912000000</th>\n",
       "      <td>-0.926258</td>\n",
       "    </tr>\n",
       "    <tr>\n",
       "      <th>20180912080000</th>\n",
       "      <td>-1.045853</td>\n",
       "    </tr>\n",
       "    <tr>\n",
       "      <th>20180912160000</th>\n",
       "      <td>-0.795876</td>\n",
       "    </tr>\n",
       "    <tr>\n",
       "      <th>20180913000000</th>\n",
       "      <td>-0.342280</td>\n",
       "    </tr>\n",
       "    <tr>\n",
       "      <th>20180913080000</th>\n",
       "      <td>0.345468</td>\n",
       "    </tr>\n",
       "    <tr>\n",
       "      <th>20180913160000</th>\n",
       "      <td>1.432198</td>\n",
       "    </tr>\n",
       "    <tr>\n",
       "      <th>20180914000000</th>\n",
       "      <td>2.165529</td>\n",
       "    </tr>\n",
       "    <tr>\n",
       "      <th>20180914080000</th>\n",
       "      <td>3.101788</td>\n",
       "    </tr>\n",
       "    <tr>\n",
       "      <th>20180914160000</th>\n",
       "      <td>3.346838</td>\n",
       "    </tr>\n",
       "    <tr>\n",
       "      <th>20180915000000</th>\n",
       "      <td>3.300062</td>\n",
       "    </tr>\n",
       "    <tr>\n",
       "      <th>20180915080000</th>\n",
       "      <td>3.121414</td>\n",
       "    </tr>\n",
       "    <tr>\n",
       "      <th>20180915160000</th>\n",
       "      <td>3.082068</td>\n",
       "    </tr>\n",
       "    <tr>\n",
       "      <th>20180916000000</th>\n",
       "      <td>2.846091</td>\n",
       "    </tr>\n",
       "    <tr>\n",
       "      <th>20180916080000</th>\n",
       "      <td>2.101623</td>\n",
       "    </tr>\n",
       "    <tr>\n",
       "      <th>20180916160000</th>\n",
       "      <td>1.563843</td>\n",
       "    </tr>\n",
       "    <tr>\n",
       "      <th>20180917000000</th>\n",
       "      <td>1.216686</td>\n",
       "    </tr>\n",
       "    <tr>\n",
       "      <th>20180917080000</th>\n",
       "      <td>0.870500</td>\n",
       "    </tr>\n",
       "    <tr>\n",
       "      <th>20180917160000</th>\n",
       "      <td>-0.635427</td>\n",
       "    </tr>\n",
       "    <tr>\n",
       "      <th>20180918000000</th>\n",
       "      <td>-2.022321</td>\n",
       "    </tr>\n",
       "    <tr>\n",
       "      <th>20180918080000</th>\n",
       "      <td>-2.829014</td>\n",
       "    </tr>\n",
       "    <tr>\n",
       "      <th>20180918160000</th>\n",
       "      <td>-2.702951</td>\n",
       "    </tr>\n",
       "    <tr>\n",
       "      <th>20180919000000</th>\n",
       "      <td>-2.655306</td>\n",
       "    </tr>\n",
       "    <tr>\n",
       "      <th>20180919080000</th>\n",
       "      <td>-2.512884</td>\n",
       "    </tr>\n",
       "    <tr>\n",
       "      <th>20180919160000</th>\n",
       "      <td>-2.140353</td>\n",
       "    </tr>\n",
       "    <tr>\n",
       "      <th>20180920000000</th>\n",
       "      <td>-1.339319</td>\n",
       "    </tr>\n",
       "    <tr>\n",
       "      <th>20180920080000</th>\n",
       "      <td>-0.626631</td>\n",
       "    </tr>\n",
       "    <tr>\n",
       "      <th>20180920160000</th>\n",
       "      <td>-0.045757</td>\n",
       "    </tr>\n",
       "    <tr>\n",
       "      <th>20180921000000</th>\n",
       "      <td>0.753614</td>\n",
       "    </tr>\n",
       "    <tr>\n",
       "      <th>20180921080000</th>\n",
       "      <td>2.159144</td>\n",
       "    </tr>\n",
       "    <tr>\n",
       "      <th>20180921160000</th>\n",
       "      <td>3.687280</td>\n",
       "    </tr>\n",
       "  </tbody>\n",
       "</table>\n",
       "<p>339 rows × 1 columns</p>\n",
       "</div>"
      ],
      "text/plain": [
       "symbol          BTCUSDT:binance\n",
       "trade_date                     \n",
       "20180601000000              NaN\n",
       "20180601080000              NaN\n",
       "20180601160000              NaN\n",
       "20180602000000              NaN\n",
       "20180602080000              NaN\n",
       "20180602160000              NaN\n",
       "20180603000000              NaN\n",
       "20180603080000              NaN\n",
       "20180603160000              NaN\n",
       "20180604000000              NaN\n",
       "20180604080000              NaN\n",
       "20180604160000              NaN\n",
       "20180605000000              NaN\n",
       "20180605080000              NaN\n",
       "20180605160000              NaN\n",
       "20180606000000              NaN\n",
       "20180606080000              NaN\n",
       "20180606160000        -0.215042\n",
       "20180607000000         0.167263\n",
       "20180607080000         0.934954\n",
       "20180607160000         1.194112\n",
       "20180608000000         1.377336\n",
       "20180608080000         1.248465\n",
       "20180608160000         1.072739\n",
       "20180609000000         0.739158\n",
       "20180609080000         0.576866\n",
       "20180609160000         0.215945\n",
       "20180610000000        -0.566723\n",
       "20180610080000        -2.488113\n",
       "20180610160000        -3.968565\n",
       "...                         ...\n",
       "20180912000000        -0.926258\n",
       "20180912080000        -1.045853\n",
       "20180912160000        -0.795876\n",
       "20180913000000        -0.342280\n",
       "20180913080000         0.345468\n",
       "20180913160000         1.432198\n",
       "20180914000000         2.165529\n",
       "20180914080000         3.101788\n",
       "20180914160000         3.346838\n",
       "20180915000000         3.300062\n",
       "20180915080000         3.121414\n",
       "20180915160000         3.082068\n",
       "20180916000000         2.846091\n",
       "20180916080000         2.101623\n",
       "20180916160000         1.563843\n",
       "20180917000000         1.216686\n",
       "20180917080000         0.870500\n",
       "20180917160000        -0.635427\n",
       "20180918000000        -2.022321\n",
       "20180918080000        -2.829014\n",
       "20180918160000        -2.702951\n",
       "20180919000000        -2.655306\n",
       "20180919080000        -2.512884\n",
       "20180919160000        -2.140353\n",
       "20180920000000        -1.339319\n",
       "20180920080000        -0.626631\n",
       "20180920160000        -0.045757\n",
       "20180921000000         0.753614\n",
       "20180921080000         2.159144\n",
       "20180921160000         3.687280\n",
       "\n",
       "[339 rows x 1 columns]"
      ]
     },
     "execution_count": 684,
     "metadata": {},
     "output_type": "execute_result"
    }
   ],
   "source": [
    "dv1H.add_formula(\"alpha27\",\"Ta('WMA',0,0,0,0,(close-Delay(close,3))/Delay(close,3)*100+(close-Delay(close,6))/Delay(close,6)*100,0,12)\",add_data=True)"
   ]
  },
  {
   "cell_type": "code",
   "execution_count": 847,
   "metadata": {},
   "outputs": [
    {
     "name": "stdout",
     "output_type": "stream",
     "text": [
      "Field [a27_ma1] is overwritten.\n",
      "Field [a27_ma2] is overwritten.\n"
     ]
    }
   ],
   "source": [
    "a27_ma1 = dv1H.add_formula('a27_ma1', 'Ts_Mean(alpha27,5)',add_data=True)\n",
    "a27_ma2 = dv1H.add_formula('a27_ma2', 'Ts_Mean(alpha27,30)', add_data=True)"
   ]
  },
  {
   "cell_type": "code",
   "execution_count": 848,
   "metadata": {},
   "outputs": [
    {
     "data": {
      "image/png": "[encoded data removed]",
      "text/plain": [
       "<Figure size 1080x1080 with 3 Axes>"
      ]
     },
     "metadata": {},
     "output_type": "display_data"
    }
   ],
   "source": [
    "a27 = dv1H.get_ts('alpha27', date_type='datetime')\n",
    "a27_ma1 = dv1H.get_ts('a27_ma1', date_type='datetime')\n",
    "a27_ma2 = dv1H.get_ts('a27_ma2', date_type='datetime')\n",
    "\n",
    "Plot_Mean(dv1H, a27.iloc[:,0], a27_ma1.iloc[:,0], a27_ma2.iloc[:,0], n=-300)"
   ]
  },
  {
   "cell_type": "markdown",
   "metadata": {},
   "source": [
    "### 根据标的物价格图以及alpha27因子的变动可知，我们仍可以对alpha27因子做短期长期（5日、30日）均线处理，进而来判断入场信号"
   ]
  },
  {
   "cell_type": "markdown",
   "metadata": {},
   "source": [
    "# 5、观察两个因子，和价格图有什么联系，如果是蜡烛图，和成交量有什么联系，怎么找到相应的信号，提出自己信号进出场的假设。（分别完成两个因子的信号假设）\n",
    "\n",
    "信号进出场假设：可以借鉴MastatiscResearch，但不要将思路假设局限在均线上，可以观察大盘上的其他现象来写信号假设，也可以进行同时满足多个因子的信号来设计信号假设等等。\n",
    "\n",
    "此处需要说出联系、找到的信号、你的信号进出场假设是什么"
   ]
  },
  {
   "cell_type": "markdown",
   "metadata": {},
   "source": [
    "### （1）ROC20因子与价格图的联系比较简单且直接，即ROC20因子有一定的领先趋势，会在一定程度先于标的价格图发生同向变动，故我们可以通过对ROC20因子设置短期（5日、25日）的MA金叉死叉策略来对BTCUSDT的多空进行有效预测并套利，假设的信号为金叉买入、死叉卖出；"
   ]
  },
  {
   "cell_type": "markdown",
   "metadata": {},
   "source": [
    "### （2）alpha27因子与ROC因子较为相似，都具有一定的预测标的物走势的能力，故对alpha27因子设置短期、长期（5日、30日）的MA，金叉死叉策略作为假设信号。"
   ]
  },
  {
   "cell_type": "markdown",
   "metadata": {},
   "source": [
    "# 6、将你的其中一个假设落实，如果能完成两个更好，但不强求\n",
    "\n",
    "利用TimingSignal最后输出long、short、long_short这三个绩效表出来"
   ]
  },
  {
   "cell_type": "markdown",
   "metadata": {},
   "source": [
    "### （1）ROC20因子"
   ]
  },
  {
   "cell_type": "code",
   "execution_count": 840,
   "metadata": {},
   "outputs": [
    {
     "name": "stdout",
     "output_type": "stream",
     "text": [
      "Field [ROC20] is overwritten.\n",
      "Field [longROC20] is overwritten.\n",
      "Field [shortROC20] is overwritten.\n",
      "Field [closeLongROC20] is overwritten.\n",
      "Field [closeShortROC20] is overwritten.\n"
     ]
    }
   ],
   "source": [
    "dv1H.add_formula('ROC20', '((close/Delay(close, 20))-1)*100' , add_data=True)\n",
    "\n",
    "# 进场信号\n",
    "\n",
    "long = dv1H.add_formula(\"longROC20\",\"If((Ts_Mean(ROC20,5)>Ts_Mean(ROC20,25)) && (Delay(Ts_Mean(ROC20,5),1)<=Delay(Ts_Mean(ROC20,25),1)),2,0)\", add_data=True)\n",
    "short = dv1H.add_formula(\"shortROC20\",\"If((Ts_Mean(ROC20,5)<Ts_Mean(ROC20,25)) && (Delay(Ts_Mean(ROC20,5),1)>=Delay(Ts_Mean(ROC20,25),1)),-2,0)\", add_data=True)\n",
    "\n",
    "# 出场信号\n",
    "close_long = dv1H.add_formula(\"closeLongROC20\",\"If(shortROC20==-2,1,0)\", add_data=True)\n",
    "close_short = dv1H.add_formula(\"closeShortROC20\",\"If(longROC20==2,-1,0)\", add_data=True)"
   ]
  },
  {
   "cell_type": "code",
   "execution_count": 841,
   "metadata": {},
   "outputs": [
    {
     "data": {
      "text/plain": [
       "trade_date      symbol         \n",
       "20180717000000  BTCUSDT:binance    2.0\n",
       "20180812000000  BTCUSDT:binance    2.0\n",
       "20180826000000  BTCUSDT:binance    2.0\n",
       "20180902080000  BTCUSDT:binance    2.0\n",
       "20180913080000  BTCUSDT:binance    2.0\n",
       "dtype: float64"
      ]
     },
     "execution_count": 841,
     "metadata": {},
     "output_type": "execute_result"
    }
   ],
   "source": [
    "dv1H.get_ts('longROC20').stack()[dv1H.get_ts('longROC20').stack()==2].tail()"
   ]
  },
  {
   "cell_type": "code",
   "execution_count": 842,
   "metadata": {},
   "outputs": [],
   "source": [
    "from jaqs_fxdayu.research import TimingDigger\n",
    "\n",
    "tdMa = TimingDigger(output_folder=\".\", output_format='pdf',signal_name='Ma')\n",
    "\n",
    "def TimingSignal(td, dv, long='long', short='short',closeLong='closeLong', closeShort='closeShort'\\\n",
    "                 , mhp=None,sl=None,sp=None):\n",
    "    # step 1：实例化TimingDigger 通过output_folder和output_format指定测试报告的输出路径和输出格式，通过signal_name指定绩效文件名称\n",
    "\n",
    "    #多空信号分别计算一遍 输出汇总结果\n",
    "    td.process_signal(\n",
    "        enter_signal=dv.get_ts(long),\n",
    "        exit_signal=dv.get_ts(closeLong),\n",
    "        sig_type=\"long\",  # 信号类型 long/short\n",
    "        price=dv.get_ts('close'),\n",
    "        max_holding_period=mhp,  # 最大持有天数 可为空\n",
    "        stoploss=-sl,  # 止损百分比 负数 可为空\n",
    "        stopprofit=sp,  # 止盈百分比 正数 可为空\n",
    "    )\n",
    "\n",
    "    td.process_signal(\n",
    "        enter_signal=dv.get_ts(short),\n",
    "        exit_signal=dv.get_ts(closeShort),\n",
    "        sig_type=\"short\",  # 信号类型 long/short\n",
    "        price=dv.get_ts(\"close\"),\n",
    "        max_holding_period=mhp,  # 最大持有天数 可为空\n",
    "        stoploss=-sl,  # 止损百分比 负数 可为空\n",
    "        stopprofit=sp,  # 止盈百分比 正数 可为空\n",
    "    )"
   ]
  },
  {
   "cell_type": "code",
   "execution_count": 843,
   "metadata": {},
   "outputs": [
    {
     "name": "stdout",
     "output_type": "stream",
     "text": [
      "Nan Data Count (should be zero) : 0;  Percentage of effective data: 2%\n",
      "Nan Data Count (should be zero) : 0;  Percentage of effective data: 2%\n"
     ]
    }
   ],
   "source": [
    "from jaqs_fxdayu.research import TimingDigger\n",
    "\n",
    "tdAlpha1 = TimingDigger(output_folder=\".\", output_format='pdf',signal_name='ROC20')\n",
    "\n",
    "TimingSignal(tdAlpha1, dv1H,'longROC20','shortROC20','closeLongROC20','closeShortROC20', 100, 0.05, 0.3)"
   ]
  },
  {
   "cell_type": "code",
   "execution_count": 844,
   "metadata": {},
   "outputs": [
    {
     "name": "stdout",
     "output_type": "stream",
     "text": [
      "*****-Summary-*****\n",
      "Event Analysis\n",
      "                      win   loss    all\n",
      "t-stat              1.929 -1.391  1.292\n",
      "p-value             0.126  0.397  0.244\n",
      "mean                0.082 -0.037  0.048\n",
      "std                 0.085  0.027  0.090\n",
      "info_ratio          0.965 -1.391  0.528\n",
      "skewness            1.216  0.000  1.146\n",
      "kurtosis           -0.143 -2.000  0.516\n",
      "pct5                0.015 -0.061 -0.048\n",
      "pct25               0.017 -0.050  0.002\n",
      "pct50               0.053 -0.037  0.017\n",
      "pct75               0.079 -0.024  0.066\n",
      "pct95               0.211 -0.013  0.194\n",
      "occurance           5.000  2.000  7.000\n",
      "win_ratio             NaN    NaN  0.714\n",
      "win_mean/loss_mean    NaN    NaN  2.208\n"
     ]
    }
   ],
   "source": [
    "tdAlpha1.create_event_report(sig_type=\"long\")"
   ]
  },
  {
   "cell_type": "code",
   "execution_count": 845,
   "metadata": {},
   "outputs": [
    {
     "name": "stdout",
     "output_type": "stream",
     "text": [
      "*****-Summary-*****\n",
      "Event Analysis\n",
      "                      win   loss    all\n",
      "t-stat              1.800 -2.620  1.038\n",
      "p-value             0.214  0.120  0.347\n",
      "mean                0.121 -0.028  0.047\n",
      "std                 0.095  0.015  0.101\n",
      "info_ratio          1.273 -1.852  0.464\n",
      "skewness            0.107  0.439  1.007\n",
      "kurtosis           -1.500 -1.500 -0.490\n",
      "pct5                0.019 -0.042 -0.040\n",
      "pct25               0.061 -0.038 -0.026\n",
      "pct50               0.114 -0.032  0.000\n",
      "pct75               0.178 -0.020  0.088\n",
      "pct95               0.228 -0.010  0.209\n",
      "occurance           3.000  3.000  6.000\n",
      "win_ratio             NaN    NaN  0.500\n",
      "win_mean/loss_mean    NaN    NaN  4.398\n"
     ]
    }
   ],
   "source": [
    "tdAlpha1.create_event_report(sig_type=\"short\")"
   ]
  },
  {
   "cell_type": "code",
   "execution_count": 846,
   "metadata": {
    "scrolled": true
   },
   "outputs": [
    {
     "name": "stdout",
     "output_type": "stream",
     "text": [
      "*****-Summary-*****\n",
      "Event Analysis\n",
      "                      win   loss     all\n",
      "t-stat              2.811 -2.997   1.718\n",
      "p-value             0.026  0.040   0.112\n",
      "mean                0.096 -0.031   0.047\n",
      "std                 0.091  0.021   0.095\n",
      "info_ratio          1.063 -1.499   0.496\n",
      "skewness            0.737 -0.270   1.074\n",
      "kurtosis           -1.051 -1.307  -0.024\n",
      "pct5                0.010 -0.059  -0.051\n",
      "pct25               0.017 -0.043  -0.010\n",
      "pct50               0.066 -0.032   0.014\n",
      "pct75               0.146 -0.010   0.079\n",
      "pct95               0.243 -0.008   0.242\n",
      "occurance           8.000  5.000  13.000\n",
      "win_ratio             NaN    NaN   0.615\n",
      "win_mean/loss_mean    NaN    NaN   3.080\n"
     ]
    }
   ],
   "source": [
    "tdAlpha1.create_event_report(sig_type=\"long_short\")"
   ]
  },
  {
   "cell_type": "markdown",
   "metadata": {},
   "source": [
    "### （2）alpha27"
   ]
  },
  {
   "cell_type": "code",
   "execution_count": 857,
   "metadata": {},
   "outputs": [
    {
     "name": "stdout",
     "output_type": "stream",
     "text": [
      "Field [longa27] is overwritten.\n",
      "Field [shorta27] is overwritten.\n",
      "Field [closeLonga27] is overwritten.\n",
      "Field [closeShorta27] is overwritten.\n"
     ]
    }
   ],
   "source": [
    "# 进场信号\n",
    "long = dv1H.add_formula(\"longa27\",\"If((Ts_Mean(alpha27,5)>Ts_Mean(alpha27,30)) && (Delay(Ts_Mean(alpha27,5),1)<=Delay(Ts_Mean(alpha27,30),1)),2,0)\", add_data=True)\n",
    "short = dv1H.add_formula(\"shorta27\",\"If((Ts_Mean(alpha27,5)<Ts_Mean(alpha27,30)) && (Delay(Ts_Mean(alpha27,5),1)>=Delay(Ts_Mean(alpha27,30),1)),-2,0)\", add_data=True)\n",
    "\n",
    "# 出场信号\n",
    "close_long = dv1H.add_formula(\"closeLonga27\",\"If(shorta27==-2,1,0)\", add_data=True)\n",
    "close_short = dv1H.add_formula(\"closeShorta27\",\"If(longa27==2,-1,0)\", add_data=True)"
   ]
  },
  {
   "cell_type": "code",
   "execution_count": 858,
   "metadata": {},
   "outputs": [
    {
     "data": {
      "text/plain": [
       "trade_date      symbol         \n",
       "20180823160000  BTCUSDT:binance    2.0\n",
       "20180825080000  BTCUSDT:binance    2.0\n",
       "20180903080000  BTCUSDT:binance    2.0\n",
       "20180911160000  BTCUSDT:binance    2.0\n",
       "20180921160000  BTCUSDT:binance    2.0\n",
       "dtype: float64"
      ]
     },
     "execution_count": 858,
     "metadata": {},
     "output_type": "execute_result"
    }
   ],
   "source": [
    "dv1H.get_ts('longa27').stack()[dv1H.get_ts('longa27').stack()==2].tail()"
   ]
  },
  {
   "cell_type": "code",
   "execution_count": 859,
   "metadata": {},
   "outputs": [
    {
     "name": "stdout",
     "output_type": "stream",
     "text": [
      "Nan Data Count (should be zero) : 0;  Percentage of effective data: 3%\n",
      "Nan Data Count (should be zero) : 0;  Percentage of effective data: 3%\n"
     ]
    }
   ],
   "source": [
    "from jaqs_fxdayu.research import TimingDigger\n",
    "\n",
    "tdAlpha3 = TimingDigger(output_folder=\".\", output_format='pdf',signal_name='alpha191_alpha27')\n",
    "\n",
    "TimingSignal(tdAlpha3, dv1H,'longa27','shorta27','closeLonga27','closeShorta27', 100, 0.05, 0.3)"
   ]
  },
  {
   "cell_type": "code",
   "execution_count": 860,
   "metadata": {},
   "outputs": [
    {
     "name": "stdout",
     "output_type": "stream",
     "text": [
      "*****-Summary-*****\n",
      "Event Analysis\n",
      "                      win   loss    all\n",
      "t-stat              2.031 -1.608  1.016\n",
      "p-value             0.098  0.249  0.339\n",
      "mean                0.056 -0.037  0.025\n",
      "std                 0.061  0.033  0.069\n",
      "info_ratio          0.908 -1.137  0.359\n",
      "skewness            1.196 -0.478  0.869\n",
      "kurtosis            0.024 -1.500  0.564\n",
      "pct5                0.004 -0.076 -0.059\n",
      "pct25               0.010 -0.054 -0.004\n",
      "pct50               0.032 -0.026  0.006\n",
      "pct75               0.070 -0.015  0.040\n",
      "pct95               0.156 -0.006  0.141\n",
      "occurance           6.000  3.000  9.000\n",
      "win_ratio             NaN    NaN  0.667\n",
      "win_mean/loss_mean    NaN    NaN  1.506\n"
     ]
    }
   ],
   "source": [
    "tdAlpha3.create_event_report(sig_type=\"long\")"
   ]
  },
  {
   "cell_type": "code",
   "execution_count": 861,
   "metadata": {},
   "outputs": [
    {
     "name": "stdout",
     "output_type": "stream",
     "text": [
      "*****-Summary-*****\n",
      "Event Analysis\n",
      "                      win   loss     all\n",
      "t-stat              1.636 -3.314   0.343\n",
      "p-value             0.200  0.021   0.739\n",
      "mean                0.074 -0.035   0.009\n",
      "std                 0.078  0.024   0.075\n",
      "info_ratio          0.945 -1.482   0.114\n",
      "skewness            0.931  0.156   1.606\n",
      "kurtosis           -0.839 -1.367   1.896\n",
      "pct5                0.006 -0.065  -0.062\n",
      "pct25               0.022 -0.052  -0.039\n",
      "pct50               0.044 -0.039  -0.005\n",
      "pct75               0.096 -0.015   0.022\n",
      "pct95               0.183 -0.003   0.140\n",
      "occurance           4.000  6.000  10.000\n",
      "win_ratio             NaN    NaN   0.400\n",
      "win_mean/loss_mean    NaN    NaN   2.114\n"
     ]
    }
   ],
   "source": [
    "tdAlpha3.create_event_report(sig_type=\"short\")"
   ]
  },
  {
   "cell_type": "code",
   "execution_count": 862,
   "metadata": {},
   "outputs": [
    {
     "name": "stdout",
     "output_type": "stream",
     "text": [
      "*****-Summary-*****\n",
      "Event Analysis\n",
      "                       win   loss     all\n",
      "t-stat               2.732 -3.744   0.950\n",
      "p-value              0.023  0.006   0.355\n",
      "mean                 0.063 -0.036   0.016\n",
      "std                  0.069  0.027   0.073\n",
      "info_ratio           0.911 -1.324   0.224\n",
      "skewness             1.132 -0.248   1.254\n",
      "kurtosis            -0.228 -1.216   1.138\n",
      "pct5                 0.003 -0.076  -0.069\n",
      "pct25                0.010 -0.055  -0.031\n",
      "pct50                0.034 -0.037   0.002\n",
      "pct75                0.075 -0.008   0.034\n",
      "pct95                0.194 -0.003   0.183\n",
      "occurance           10.000  9.000  19.000\n",
      "win_ratio              NaN    NaN   0.526\n",
      "win_mean/loss_mean     NaN    NaN   1.768\n"
     ]
    }
   ],
   "source": [
    "tdAlpha3.create_event_report(sig_type=\"long_short\")"
   ]
  },
  {
   "cell_type": "markdown",
   "metadata": {},
   "source": [
    "# *策略通用性测试"
   ]
  },
  {
   "cell_type": "markdown",
   "metadata": {},
   "source": [
    "### （1）ROC20 因子"
   ]
  },
  {
   "cell_type": "code",
   "execution_count": 675,
   "metadata": {},
   "outputs": [],
   "source": [
    "start = time()\n",
    "path = r'./min_data/VnTrader_1Min_Db'\n",
    "props = {'fields': 'open,high,low,close,volume','symbol': 'EOSUSDT:binance',\n",
    "         'freq':'8H',\n",
    "         'start_date':20180601000000}\n",
    "\n",
    "Time_dict = ds.bar_reader(path,props) #读取数据"
   ]
  },
  {
   "cell_type": "code",
   "execution_count": 676,
   "metadata": {},
   "outputs": [],
   "source": [
    "from jaqs_fxdayu.data.hf_dataview import HFDataView\n",
    "dv1h = HFDataView()"
   ]
  },
  {
   "cell_type": "code",
   "execution_count": 677,
   "metadata": {},
   "outputs": [
    {
     "name": "stdout",
     "output_type": "stream",
     "text": [
      "Initialize dataview success.\n"
     ]
    }
   ],
   "source": [
    "dv1h.create_init_dv(Time_dict.dropna().set_index([\"trade_date\",\"symbol\"]))"
   ]
  },
  {
   "cell_type": "code",
   "execution_count": 827,
   "metadata": {},
   "outputs": [
    {
     "name": "stdout",
     "output_type": "stream",
     "text": [
      "Field [ROC20] is overwritten.\n",
      "Field [longROC20] is overwritten.\n",
      "Field [shortROC20] is overwritten.\n",
      "Field [closeLongROC20] is overwritten.\n",
      "Field [closeShortROC20] is overwritten.\n"
     ]
    }
   ],
   "source": [
    "dv1h.add_formula('ROC20', '((close/Delay(close, 20))-1)*100' , add_data=True)\n",
    "\n",
    "# 进场信号\n",
    "long = dv1h.add_formula(\"longROC20\",\"If((Ts_Mean(ROC20,5)>Ts_Mean(ROC20,25)) && (Delay(Ts_Mean(ROC20,5),1)<=Delay(Ts_Mean(ROC20,25),1)),2,0)\", add_data=True)\n",
    "short = dv1h.add_formula(\"shortROC20\",\"If((Ts_Mean(ROC20,5)<Ts_Mean(ROC20,25)) && (Delay(Ts_Mean(ROC20,5),1)>=Delay(Ts_Mean(ROC20,25),1)),-2,0)\", add_data=True)\n",
    "\n",
    "# 出场信号\n",
    "close_long = dv1h.add_formula(\"closeLongROC20\",\"If(shortROC20==-2,1,0)\", add_data=True)\n",
    "close_short = dv1h.add_formula(\"closeShortROC20\",\"If(longROC20==2,-1,0)\", add_data=True)"
   ]
  },
  {
   "cell_type": "code",
   "execution_count": 828,
   "metadata": {},
   "outputs": [
    {
     "data": {
      "text/plain": [
       "trade_date      symbol         \n",
       "20180807000000  EOSUSDT:binance    2.0\n",
       "20180816000000  EOSUSDT:binance    2.0\n",
       "20180828000000  EOSUSDT:binance    2.0\n",
       "20180913000000  EOSUSDT:binance    2.0\n",
       "20180921160000  EOSUSDT:binance    2.0\n",
       "dtype: float64"
      ]
     },
     "execution_count": 828,
     "metadata": {},
     "output_type": "execute_result"
    }
   ],
   "source": [
    "dv1h.get_ts('longROC20').stack()[dv1h.get_ts('longROC20').stack()==2].tail()"
   ]
  },
  {
   "cell_type": "code",
   "execution_count": 829,
   "metadata": {},
   "outputs": [
    {
     "name": "stdout",
     "output_type": "stream",
     "text": [
      "Nan Data Count (should be zero) : 0;  Percentage of effective data: 3%\n",
      "Nan Data Count (should be zero) : 0;  Percentage of effective data: 2%\n"
     ]
    }
   ],
   "source": [
    "from jaqs_fxdayu.research import TimingDigger\n",
    "\n",
    "tdAlpha2 = TimingDigger(output_folder=\".\", output_format='pdf',signal_name='ROC20')\n",
    "\n",
    "TimingSignal(tdAlpha2, dv1h,'longROC20','shortROC20','closeLongROC20','closeShortROC20', 100, 0.05, 0.3)"
   ]
  },
  {
   "cell_type": "code",
   "execution_count": 830,
   "metadata": {},
   "outputs": [
    {
     "name": "stdout",
     "output_type": "stream",
     "text": [
      "*****-Summary-*****\n",
      "Event Analysis\n",
      "                      win   loss    all\n",
      "t-stat              3.382 -2.581  1.387\n",
      "p-value             0.028  0.082  0.203\n",
      "mean                0.119 -0.041  0.048\n",
      "std                 0.070  0.028  0.097\n",
      "info_ratio          1.691 -1.490  0.490\n",
      "skewness           -0.395  0.106  0.335\n",
      "kurtosis           -1.113 -1.859 -1.359\n",
      "pct5                0.021 -0.069 -0.069\n",
      "pct25               0.077 -0.068 -0.022\n",
      "pct50               0.140 -0.045  0.006\n",
      "pct75               0.162 -0.018  0.140\n",
      "pct95               0.199 -0.009  0.190\n",
      "occurance           5.000  4.000  9.000\n",
      "win_ratio             NaN    NaN  0.556\n",
      "win_mean/loss_mean    NaN    NaN  2.870\n"
     ]
    }
   ],
   "source": [
    "tdAlpha2.create_event_report(sig_type=\"long\")"
   ]
  },
  {
   "cell_type": "code",
   "execution_count": 831,
   "metadata": {},
   "outputs": [
    {
     "name": "stdout",
     "output_type": "stream",
     "text": [
      "*****-Summary-*****\n",
      "Event Analysis\n",
      "                      win   loss    all\n",
      "t-stat              3.973 -6.273  2.002\n",
      "p-value             0.011  0.101  0.085\n",
      "mean                0.117 -0.061  0.073\n",
      "std                 0.066  0.010  0.096\n",
      "info_ratio          1.777 -6.273  0.757\n",
      "skewness            0.829  0.000  0.086\n",
      "kurtosis           -0.803 -2.000 -0.808\n",
      "pct5                0.054 -0.069 -0.064\n",
      "pct25               0.076 -0.065  0.023\n",
      "pct50               0.086 -0.061  0.079\n",
      "pct75               0.150 -0.056  0.110\n",
      "pct95               0.221 -0.052  0.214\n",
      "occurance           6.000  2.000  8.000\n",
      "win_ratio             NaN    NaN  0.750\n",
      "win_mean/loss_mean    NaN    NaN  1.928\n"
     ]
    }
   ],
   "source": [
    "tdAlpha2.create_event_report(sig_type=\"short\")"
   ]
  },
  {
   "cell_type": "code",
   "execution_count": 832,
   "metadata": {},
   "outputs": [
    {
     "name": "stdout",
     "output_type": "stream",
     "text": [
      "*****-Summary-*****\n",
      "Event Analysis\n",
      "                       win   loss     all\n",
      "t-stat               5.488 -4.266   2.440\n",
      "p-value              0.000  0.008   0.027\n",
      "mean                 0.118 -0.048   0.059\n",
      "std                  0.068  0.025   0.097\n",
      "info_ratio           1.735 -1.908   0.610\n",
      "skewness             0.216  0.616   0.210\n",
      "kurtosis            -0.987 -1.319  -1.135\n",
      "pct5                 0.027 -0.070  -0.069\n",
      "pct25                0.076 -0.069  -0.022\n",
      "pct50                0.089 -0.060   0.074\n",
      "pct75                0.166 -0.029   0.140\n",
      "pct95                0.223 -0.010   0.214\n",
      "occurance           11.000  6.000  17.000\n",
      "win_ratio              NaN    NaN   0.647\n",
      "win_mean/loss_mean     NaN    NaN   2.464\n"
     ]
    }
   ],
   "source": [
    "tdAlpha2.create_event_report(sig_type=\"long_short\")"
   ]
  },
  {
   "cell_type": "markdown",
   "metadata": {},
   "source": [
    "### （2）alpha27"
   ]
  },
  {
   "cell_type": "code",
   "execution_count": 750,
   "metadata": {},
   "outputs": [
    {
     "name": "stdout",
     "output_type": "stream",
     "text": [
      "Field [alpha27] is overwritten.\n",
      "Field [longa27] is overwritten.\n",
      "Field [shorta27] is overwritten.\n",
      "Field [closeLonga27] is overwritten.\n",
      "Field [closeShorta27] is overwritten.\n"
     ]
    }
   ],
   "source": [
    "dv1h.add_formula(\"alpha27\",\"Ta('WMA',0,0,0,0,(close-Delay(close,3))/Delay(close,3)*100+(close-Delay(close,6))/Delay(close,6)*100,0,12)\",add_data=True)\n",
    "\n",
    "# 进场信号\n",
    "long = dv1h.add_formula(\"longa27\",\"If((Ts_Mean(alpha27,5)>Ts_Mean(alpha27,30)) && (Delay(Ts_Mean(alpha27,5),1)<=Delay(Ts_Mean(alpha27,30),1)),2,0)\", add_data=True)\n",
    "short = dv1h.add_formula(\"shorta27\",\"If((Ts_Mean(alpha27,5)<Ts_Mean(alpha27,30)) && (Delay(Ts_Mean(alpha27,5),1)>=Delay(Ts_Mean(alpha27,30),1)),-2,0)\", add_data=True)\n",
    "\n",
    "# 出场信号\n",
    "close_long = dv1h.add_formula(\"closeLonga27\",\"If(shorta27==-2,1,0)\", add_data=True)\n",
    "close_short = dv1h.add_formula(\"closeShorta27\",\"If(longa27==2,-1,0)\", add_data=True)"
   ]
  },
  {
   "cell_type": "code",
   "execution_count": 751,
   "metadata": {},
   "outputs": [
    {
     "data": {
      "text/plain": [
       "trade_date      symbol         \n",
       "20180805080000  EOSUSDT:binance    2.0\n",
       "20180816080000  EOSUSDT:binance    2.0\n",
       "20180826080000  EOSUSDT:binance    2.0\n",
       "20180911080000  EOSUSDT:binance    2.0\n",
       "20180921080000  EOSUSDT:binance    2.0\n",
       "dtype: float64"
      ]
     },
     "execution_count": 751,
     "metadata": {},
     "output_type": "execute_result"
    }
   ],
   "source": [
    "dv1h.get_ts('longa27').stack()[dv1h.get_ts('longa27').stack()==2].tail()"
   ]
  },
  {
   "cell_type": "code",
   "execution_count": 863,
   "metadata": {},
   "outputs": [
    {
     "name": "stdout",
     "output_type": "stream",
     "text": [
      "Nan Data Count (should be zero) : 0;  Percentage of effective data: 2%\n",
      "Nan Data Count (should be zero) : 0;  Percentage of effective data: 2%\n"
     ]
    }
   ],
   "source": [
    "tdAlpha3 = TimingDigger(output_folder=\".\", output_format='pdf',signal_name='a27')\n",
    "\n",
    "TimingSignal(tdAlpha3, dv1h,'longa27','shorta27','closeLonga27','closeShorta27', 100, 0.05, 0.3)"
   ]
  },
  {
   "cell_type": "code",
   "execution_count": 864,
   "metadata": {},
   "outputs": [
    {
     "name": "stdout",
     "output_type": "stream",
     "text": [
      "*****-Summary-*****\n",
      "Event Analysis\n",
      "                      win   loss    all\n",
      "t-stat              2.785 -3.468  1.712\n",
      "p-value             0.050  0.179  0.138\n",
      "mean                0.133 -0.049  0.081\n",
      "std                 0.095  0.014  0.115\n",
      "info_ratio          1.393 -3.468  0.699\n",
      "skewness            0.723  0.000  0.591\n",
      "kurtosis           -0.720 -2.000 -0.599\n",
      "pct5                0.037 -0.062 -0.055\n",
      "pct25               0.046 -0.057 -0.000\n",
      "pct50               0.138 -0.049  0.046\n",
      "pct75               0.144 -0.042  0.141\n",
      "pct95               0.269 -0.037  0.254\n",
      "occurance           5.000  2.000  7.000\n",
      "win_ratio             NaN    NaN  0.714\n",
      "win_mean/loss_mean    NaN    NaN  2.685\n"
     ]
    }
   ],
   "source": [
    "tdAlpha3.create_event_report(sig_type=\"long\")"
   ]
  },
  {
   "cell_type": "code",
   "execution_count": 865,
   "metadata": {},
   "outputs": [
    {
     "name": "stdout",
     "output_type": "stream",
     "text": [
      "*****-Summary-*****\n",
      "Event Analysis\n",
      "                      win   loss    all\n",
      "t-stat              6.803 -1.844  1.710\n",
      "p-value             0.002  0.206  0.131\n",
      "mean                0.172 -0.068  0.082\n",
      "std                 0.051  0.052  0.127\n",
      "info_ratio          3.402 -1.304  0.646\n",
      "skewness            0.096 -0.317 -0.413\n",
      "kurtosis           -0.678 -1.500 -1.181\n",
      "pct5                0.108 -0.129 -0.109\n",
      "pct25               0.159 -0.097 -0.022\n",
      "pct50               0.166 -0.057  0.127\n",
      "pct75               0.188 -0.034  0.171\n",
      "pct95               0.239 -0.015  0.230\n",
      "occurance           5.000  3.000  8.000\n",
      "win_ratio             NaN    NaN  0.625\n",
      "win_mean/loss_mean    NaN    NaN  2.533\n"
     ]
    }
   ],
   "source": [
    "tdAlpha3.create_event_report(sig_type=\"short\")"
   ]
  },
  {
   "cell_type": "code",
   "execution_count": 866,
   "metadata": {},
   "outputs": [
    {
     "name": "stdout",
     "output_type": "stream",
     "text": [
      "*****-Summary-*****\n",
      "Event Analysis\n",
      "                       win   loss     all\n",
      "t-stat               5.802 -2.861   2.503\n",
      "p-value              0.000  0.046   0.025\n",
      "mean                 0.152 -0.061   0.081\n",
      "std                  0.079  0.042   0.122\n",
      "info_ratio           1.934 -1.430   0.669\n",
      "skewness             0.259 -0.791  -0.013\n",
      "kurtosis            -0.633 -0.495  -0.956\n",
      "pct5                 0.040 -0.122  -0.086\n",
      "pct25                0.106 -0.064  -0.023\n",
      "pct50                0.152 -0.057   0.095\n",
      "pct75                0.183 -0.035   0.162\n",
      "pct95                0.279 -0.015   0.267\n",
      "occurance           10.000  5.000  15.000\n",
      "win_ratio              NaN    NaN   0.667\n",
      "win_mean/loss_mean     NaN    NaN   2.518\n"
     ]
    }
   ],
   "source": [
    "tdAlpha3.create_event_report(sig_type=\"long_short\")"
   ]
  }
 ],
 "metadata": {
  "kernelspec": {
   "display_name": "Python 3",
   "language": "python",
   "name": "python3"
  },
  "language_info": {
   "codemirror_mode": {
    "name": "ipython",
    "version": 3
   },
   "file_extension": ".py",
   "mimetype": "text/x-python",
   "name": "python",
   "nbconvert_exporter": "python",
   "pygments_lexer": "ipython3",
   "version": "3.6.5"
  }
 },
 "nbformat": 4,
 "nbformat_minor": 2
}
